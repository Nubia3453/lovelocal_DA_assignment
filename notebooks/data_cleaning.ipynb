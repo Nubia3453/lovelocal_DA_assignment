{
 "cells": [
  {
   "cell_type": "markdown",
   "id": "defbd0b9-4351-4de7-8453-9dbabfd0d4c8",
   "metadata": {},
   "source": [
    "# importing requred libraries"
   ]
  },
  {
   "cell_type": "code",
   "execution_count": 1,
   "id": "3797d9de-c78b-48de-9e60-36eb35c089ac",
   "metadata": {},
   "outputs": [],
   "source": [
    "import pandas as pd"
   ]
  },
  {
   "cell_type": "markdown",
   "id": "15a45622-66f7-443b-8f89-de2ac3d8cc34",
   "metadata": {},
   "source": [
    "# path to all requred input datasets"
   ]
  },
  {
   "cell_type": "code",
   "execution_count": null,
   "id": "c85e2f33-ab6f-4d7b-ba49-d9086fc1113e",
   "metadata": {},
   "outputs": [],
   "source": [
    "# this gives flexibality to user on pointing requred dataset at any point of analysis"
   ]
  },
  {
   "cell_type": "code",
   "execution_count": 3,
   "id": "432ad074-c618-4ca5-8e46-ec850bd44164",
   "metadata": {},
   "outputs": [],
   "source": [
    "customer_reviews  = r'C:\\Users\\Vinayak\\Data Analyst - Raw Data (1)\\Senior Data Analyst - Raw Data\\customer_reviews.csv'\n",
    "orders = r'C:\\Users\\Vinayak\\Data Analyst - Raw Data (1)\\Senior Data Analyst - Raw Data\\orders.csv'\n",
    "products = r'C:\\Users\\Vinayak\\Data Analyst - Raw Data (1)\\Senior Data Analyst - Raw Data\\products.csv'\n",
    "order_items = r'C:\\Users\\Vinayak\\Data Analyst - Raw Data (1)\\Senior Data Analyst - Raw Data\\order_items.csv'\n",
    "customers = r'C:\\Users\\Vinayak\\Data Analyst - Raw Data (1)\\Senior Data Analyst - Raw Data\\customers.csv'\n"
   ]
  },
  {
   "cell_type": "markdown",
   "id": "343e19b4-bff4-491d-8659-75247f73478c",
   "metadata": {},
   "source": [
    "# creating dataframes"
   ]
  },
  {
   "cell_type": "code",
   "execution_count": 95,
   "id": "d2720b1a-e85c-4586-80b6-f28041c43d57",
   "metadata": {
    "scrolled": true
   },
   "outputs": [],
   "source": [
    "df_customer_reviews = pd.read_csv(customer_reviews)\n",
    "df_orders = pd.read_csv(orders)\n",
    "df_products = pd.read_csv(products)\n",
    "df_order_items = pd.read_csv(order_items)\n",
    "df_customers = pd.read_csv(customers)"
   ]
  },
  {
   "cell_type": "code",
   "execution_count": null,
   "id": "9e10791a-1bbe-4466-8f90-48d8778f71e9",
   "metadata": {},
   "outputs": [],
   "source": []
  },
  {
   "cell_type": "markdown",
   "id": "a80fdef1-98d0-4f96-a438-7264a16e0d2b",
   "metadata": {},
   "source": [
    "# Data Cleaning and formatting"
   ]
  },
  {
   "cell_type": "code",
   "execution_count": null,
   "id": "d3149a37-25d6-4c62-861d-3866d20cc935",
   "metadata": {},
   "outputs": [],
   "source": [
    "# Convert date fields into appropriate datetime formats.\n",
    "# check for dataets which has date columns\n",
    "# check NA\n",
    "# check duplicates\n"
   ]
  },
  {
   "cell_type": "code",
   "execution_count": 175,
   "id": "108b5f29-24e2-4791-b210-a7ac6b97391c",
   "metadata": {},
   "outputs": [
    {
     "data": {
      "text/html": [
       "<div>\n",
       "<style scoped>\n",
       "    .dataframe tbody tr th:only-of-type {\n",
       "        vertical-align: middle;\n",
       "    }\n",
       "\n",
       "    .dataframe tbody tr th {\n",
       "        vertical-align: top;\n",
       "    }\n",
       "\n",
       "    .dataframe thead th {\n",
       "        text-align: right;\n",
       "    }\n",
       "</style>\n",
       "<table border=\"1\" class=\"dataframe\">\n",
       "  <thead>\n",
       "    <tr style=\"text-align: right;\">\n",
       "      <th></th>\n",
       "      <th>review_id</th>\n",
       "      <th>order_id</th>\n",
       "      <th>product_id</th>\n",
       "      <th>rating</th>\n",
       "      <th>review_text</th>\n",
       "      <th>review_date</th>\n",
       "    </tr>\n",
       "  </thead>\n",
       "  <tbody>\n",
       "    <tr>\n",
       "      <th>0</th>\n",
       "      <td>1</td>\n",
       "      <td>1</td>\n",
       "      <td>1</td>\n",
       "      <td>4</td>\n",
       "      <td>Good product</td>\n",
       "      <td>2023-01-07</td>\n",
       "    </tr>\n",
       "    <tr>\n",
       "      <th>1</th>\n",
       "      <td>2</td>\n",
       "      <td>1</td>\n",
       "      <td>3</td>\n",
       "      <td>5</td>\n",
       "      <td>Excellent quality!</td>\n",
       "      <td>2023-01-07</td>\n",
       "    </tr>\n",
       "    <tr>\n",
       "      <th>2</th>\n",
       "      <td>3</td>\n",
       "      <td>2</td>\n",
       "      <td>4</td>\n",
       "      <td>3</td>\n",
       "      <td>Average quality</td>\n",
       "      <td>2023-01-09</td>\n",
       "    </tr>\n",
       "    <tr>\n",
       "      <th>3</th>\n",
       "      <td>4</td>\n",
       "      <td>3</td>\n",
       "      <td>6</td>\n",
       "      <td>4</td>\n",
       "      <td>Good value for money</td>\n",
       "      <td>2023-01-12</td>\n",
       "    </tr>\n",
       "    <tr>\n",
       "      <th>4</th>\n",
       "      <td>5</td>\n",
       "      <td>3</td>\n",
       "      <td>8</td>\n",
       "      <td>2</td>\n",
       "      <td>Not as expected</td>\n",
       "      <td>2023-01-12</td>\n",
       "    </tr>\n",
       "  </tbody>\n",
       "</table>\n",
       "</div>"
      ],
      "text/plain": [
       "   review_id  order_id  product_id  rating           review_text review_date\n",
       "0          1         1           1       4          Good product  2023-01-07\n",
       "1          2         1           3       5    Excellent quality!  2023-01-07\n",
       "2          3         2           4       3       Average quality  2023-01-09\n",
       "3          4         3           6       4  Good value for money  2023-01-12\n",
       "4          5         3           8       2       Not as expected  2023-01-12"
      ]
     },
     "execution_count": 175,
     "metadata": {},
     "output_type": "execute_result"
    }
   ],
   "source": [
    "df_customer_reviews.head()\n"
   ]
  },
  {
   "cell_type": "code",
   "execution_count": 189,
   "id": "11ff1481-439c-457d-ae96-18a6fd1616b0",
   "metadata": {},
   "outputs": [
    {
     "data": {
      "text/plain": [
       "review_id      0\n",
       "order_id       0\n",
       "product_id     0\n",
       "rating         0\n",
       "review_text    0\n",
       "review_date    0\n",
       "dtype: int64"
      ]
     },
     "execution_count": 189,
     "metadata": {},
     "output_type": "execute_result"
    }
   ],
   "source": [
    "df_customer_reviews.isna().sum()"
   ]
  },
  {
   "cell_type": "code",
   "execution_count": 191,
   "id": "5631fff3-c071-4aba-9b55-6ffccc906cdf",
   "metadata": {},
   "outputs": [
    {
     "data": {
      "text/plain": [
       "0"
      ]
     },
     "execution_count": 191,
     "metadata": {},
     "output_type": "execute_result"
    }
   ],
   "source": [
    "df_customer_reviews.duplicated().sum()"
   ]
  },
  {
   "cell_type": "code",
   "execution_count": 193,
   "id": "31884037-83c2-49b9-a0aa-46f8a7b372fd",
   "metadata": {
    "scrolled": true
   },
   "outputs": [
    {
     "name": "stdout",
     "output_type": "stream",
     "text": [
      "<class 'pandas.core.frame.DataFrame'>\n",
      "RangeIndex: 30 entries, 0 to 29\n",
      "Data columns (total 6 columns):\n",
      " #   Column       Non-Null Count  Dtype         \n",
      "---  ------       --------------  -----         \n",
      " 0   review_id    30 non-null     int64         \n",
      " 1   order_id     30 non-null     int64         \n",
      " 2   product_id   30 non-null     int64         \n",
      " 3   rating       30 non-null     int64         \n",
      " 4   review_text  30 non-null     object        \n",
      " 5   review_date  30 non-null     datetime64[ns]\n",
      "dtypes: datetime64[ns](1), int64(4), object(1)\n",
      "memory usage: 1.5+ KB\n"
     ]
    }
   ],
   "source": [
    "df_customer_reviews.info()"
   ]
  },
  {
   "cell_type": "markdown",
   "id": "b4bfe3f9-c35b-4083-bb1e-78659854cd63",
   "metadata": {},
   "source": [
    "# coverting date column into datetime format"
   ]
  },
  {
   "cell_type": "code",
   "execution_count": 195,
   "id": "4ad0c328-fcaf-491b-95ac-59df2a8c8591",
   "metadata": {},
   "outputs": [],
   "source": [
    "df_customer_reviews['review_date']=pd.to_datetime(df_customer_reviews['review_date'],format='mixed')"
   ]
  },
  {
   "cell_type": "code",
   "execution_count": 197,
   "id": "9568a4dc-5133-4f46-b7e1-83e1f81c8539",
   "metadata": {
    "scrolled": true
   },
   "outputs": [
    {
     "name": "stdout",
     "output_type": "stream",
     "text": [
      "<class 'pandas.core.frame.DataFrame'>\n",
      "RangeIndex: 30 entries, 0 to 29\n",
      "Data columns (total 6 columns):\n",
      " #   Column       Non-Null Count  Dtype         \n",
      "---  ------       --------------  -----         \n",
      " 0   review_id    30 non-null     int64         \n",
      " 1   order_id     30 non-null     int64         \n",
      " 2   product_id   30 non-null     int64         \n",
      " 3   rating       30 non-null     int64         \n",
      " 4   review_text  30 non-null     object        \n",
      " 5   review_date  30 non-null     datetime64[ns]\n",
      "dtypes: datetime64[ns](1), int64(4), object(1)\n",
      "memory usage: 1.5+ KB\n"
     ]
    }
   ],
   "source": [
    "df_customer_reviews.info()"
   ]
  },
  {
   "cell_type": "markdown",
   "id": "a80ccd0d-8c1f-4f01-b403-9632e50abb15",
   "metadata": {},
   "source": [
    "# exporting datafarme to csv file for future use"
   ]
  },
  {
   "cell_type": "code",
   "execution_count": 199,
   "id": "d7d1ba9d-6f3e-412a-ba93-a4a5d9335c03",
   "metadata": {},
   "outputs": [],
   "source": [
    "df_customer_reviews.to_csv(r'C:\\Users\\Vinayak\\Data Analyst - Raw Data (1)\\formatted_datasets\\customer_reviews_formatted.csv',index=False)"
   ]
  },
  {
   "cell_type": "code",
   "execution_count": null,
   "id": "d1e49cc3-27b8-4deb-b7ec-05bfa0d20b88",
   "metadata": {},
   "outputs": [],
   "source": []
  },
  {
   "cell_type": "code",
   "execution_count": 201,
   "id": "d651ec66-f899-4bbd-80f5-bf2a47f51ff3",
   "metadata": {
    "scrolled": true
   },
   "outputs": [
    {
     "data": {
      "text/html": [
       "<div>\n",
       "<style scoped>\n",
       "    .dataframe tbody tr th:only-of-type {\n",
       "        vertical-align: middle;\n",
       "    }\n",
       "\n",
       "    .dataframe tbody tr th {\n",
       "        vertical-align: top;\n",
       "    }\n",
       "\n",
       "    .dataframe thead th {\n",
       "        text-align: right;\n",
       "    }\n",
       "</style>\n",
       "<table border=\"1\" class=\"dataframe\">\n",
       "  <thead>\n",
       "    <tr style=\"text-align: right;\">\n",
       "      <th></th>\n",
       "      <th>order_id</th>\n",
       "      <th>customer_id</th>\n",
       "      <th>order_date</th>\n",
       "      <th>total_amount</th>\n",
       "      <th>status</th>\n",
       "    </tr>\n",
       "  </thead>\n",
       "  <tbody>\n",
       "    <tr>\n",
       "      <th>0</th>\n",
       "      <td>1</td>\n",
       "      <td>101</td>\n",
       "      <td>2023-01-05</td>\n",
       "      <td>250</td>\n",
       "      <td>completed</td>\n",
       "    </tr>\n",
       "    <tr>\n",
       "      <th>1</th>\n",
       "      <td>2</td>\n",
       "      <td>102</td>\n",
       "      <td>2023-01-07</td>\n",
       "      <td>150</td>\n",
       "      <td>cancelled</td>\n",
       "    </tr>\n",
       "    <tr>\n",
       "      <th>2</th>\n",
       "      <td>3</td>\n",
       "      <td>103</td>\n",
       "      <td>2023-01-10</td>\n",
       "      <td>300</td>\n",
       "      <td>completed</td>\n",
       "    </tr>\n",
       "    <tr>\n",
       "      <th>3</th>\n",
       "      <td>4</td>\n",
       "      <td>101</td>\n",
       "      <td>2023-02-12</td>\n",
       "      <td>500</td>\n",
       "      <td>completed</td>\n",
       "    </tr>\n",
       "    <tr>\n",
       "      <th>4</th>\n",
       "      <td>5</td>\n",
       "      <td>104</td>\n",
       "      <td>2023-02-20</td>\n",
       "      <td>400</td>\n",
       "      <td>completed</td>\n",
       "    </tr>\n",
       "  </tbody>\n",
       "</table>\n",
       "</div>"
      ],
      "text/plain": [
       "   order_id  customer_id order_date  total_amount     status\n",
       "0         1          101 2023-01-05           250  completed\n",
       "1         2          102 2023-01-07           150  cancelled\n",
       "2         3          103 2023-01-10           300  completed\n",
       "3         4          101 2023-02-12           500  completed\n",
       "4         5          104 2023-02-20           400  completed"
      ]
     },
     "execution_count": 201,
     "metadata": {},
     "output_type": "execute_result"
    }
   ],
   "source": [
    "df_orders.head()"
   ]
  },
  {
   "cell_type": "code",
   "execution_count": 205,
   "id": "45d3ffc8-0764-4ad8-b743-e467f320cbf0",
   "metadata": {},
   "outputs": [
    {
     "data": {
      "text/plain": [
       "order_id        0\n",
       "customer_id     0\n",
       "order_date      0\n",
       "total_amount    0\n",
       "status          0\n",
       "dtype: int64"
      ]
     },
     "execution_count": 205,
     "metadata": {},
     "output_type": "execute_result"
    }
   ],
   "source": [
    "df_orders.isna().sum()"
   ]
  },
  {
   "cell_type": "code",
   "execution_count": 207,
   "id": "8b36bbcf-bf41-4ee2-81ba-d991b652ce17",
   "metadata": {},
   "outputs": [
    {
     "data": {
      "text/plain": [
       "0"
      ]
     },
     "execution_count": 207,
     "metadata": {},
     "output_type": "execute_result"
    }
   ],
   "source": [
    "df_orders.duplicated().sum()"
   ]
  },
  {
   "cell_type": "code",
   "execution_count": 209,
   "id": "fa94276e-c94c-4b5a-bfb3-66c57dfad498",
   "metadata": {
    "scrolled": true
   },
   "outputs": [
    {
     "name": "stdout",
     "output_type": "stream",
     "text": [
      "<class 'pandas.core.frame.DataFrame'>\n",
      "RangeIndex: 30 entries, 0 to 29\n",
      "Data columns (total 5 columns):\n",
      " #   Column        Non-Null Count  Dtype         \n",
      "---  ------        --------------  -----         \n",
      " 0   order_id      30 non-null     int64         \n",
      " 1   customer_id   30 non-null     int64         \n",
      " 2   order_date    30 non-null     datetime64[ns]\n",
      " 3   total_amount  30 non-null     int64         \n",
      " 4   status        30 non-null     object        \n",
      "dtypes: datetime64[ns](1), int64(3), object(1)\n",
      "memory usage: 1.3+ KB\n"
     ]
    }
   ],
   "source": [
    "df_orders.info()"
   ]
  },
  {
   "cell_type": "code",
   "execution_count": 211,
   "id": "89bafe62-f724-482a-bfd0-6c72d2a2f39a",
   "metadata": {},
   "outputs": [
    {
     "data": {
      "text/html": [
       "<div>\n",
       "<style scoped>\n",
       "    .dataframe tbody tr th:only-of-type {\n",
       "        vertical-align: middle;\n",
       "    }\n",
       "\n",
       "    .dataframe tbody tr th {\n",
       "        vertical-align: top;\n",
       "    }\n",
       "\n",
       "    .dataframe thead th {\n",
       "        text-align: right;\n",
       "    }\n",
       "</style>\n",
       "<table border=\"1\" class=\"dataframe\">\n",
       "  <thead>\n",
       "    <tr style=\"text-align: right;\">\n",
       "      <th></th>\n",
       "      <th>order_id</th>\n",
       "      <th>customer_id</th>\n",
       "      <th>order_date</th>\n",
       "      <th>total_amount</th>\n",
       "      <th>status</th>\n",
       "    </tr>\n",
       "  </thead>\n",
       "  <tbody>\n",
       "    <tr>\n",
       "      <th>0</th>\n",
       "      <td>1</td>\n",
       "      <td>101</td>\n",
       "      <td>2023-01-05</td>\n",
       "      <td>250</td>\n",
       "      <td>completed</td>\n",
       "    </tr>\n",
       "    <tr>\n",
       "      <th>1</th>\n",
       "      <td>2</td>\n",
       "      <td>102</td>\n",
       "      <td>2023-01-07</td>\n",
       "      <td>150</td>\n",
       "      <td>cancelled</td>\n",
       "    </tr>\n",
       "    <tr>\n",
       "      <th>2</th>\n",
       "      <td>3</td>\n",
       "      <td>103</td>\n",
       "      <td>2023-01-10</td>\n",
       "      <td>300</td>\n",
       "      <td>completed</td>\n",
       "    </tr>\n",
       "    <tr>\n",
       "      <th>3</th>\n",
       "      <td>4</td>\n",
       "      <td>101</td>\n",
       "      <td>2023-02-12</td>\n",
       "      <td>500</td>\n",
       "      <td>completed</td>\n",
       "    </tr>\n",
       "    <tr>\n",
       "      <th>4</th>\n",
       "      <td>5</td>\n",
       "      <td>104</td>\n",
       "      <td>2023-02-20</td>\n",
       "      <td>400</td>\n",
       "      <td>completed</td>\n",
       "    </tr>\n",
       "  </tbody>\n",
       "</table>\n",
       "</div>"
      ],
      "text/plain": [
       "   order_id  customer_id order_date  total_amount     status\n",
       "0         1          101 2023-01-05           250  completed\n",
       "1         2          102 2023-01-07           150  cancelled\n",
       "2         3          103 2023-01-10           300  completed\n",
       "3         4          101 2023-02-12           500  completed\n",
       "4         5          104 2023-02-20           400  completed"
      ]
     },
     "execution_count": 211,
     "metadata": {},
     "output_type": "execute_result"
    }
   ],
   "source": [
    "df_orders['order_date'] = pd.to_datetime(df_orders['order_date'])\n",
    "df_orders.head()"
   ]
  },
  {
   "cell_type": "code",
   "execution_count": 213,
   "id": "10a2c5fc-a707-47b6-a2d5-c8ab0a3a7e9c",
   "metadata": {
    "scrolled": true
   },
   "outputs": [
    {
     "name": "stdout",
     "output_type": "stream",
     "text": [
      "<class 'pandas.core.frame.DataFrame'>\n",
      "RangeIndex: 30 entries, 0 to 29\n",
      "Data columns (total 5 columns):\n",
      " #   Column        Non-Null Count  Dtype         \n",
      "---  ------        --------------  -----         \n",
      " 0   order_id      30 non-null     int64         \n",
      " 1   customer_id   30 non-null     int64         \n",
      " 2   order_date    30 non-null     datetime64[ns]\n",
      " 3   total_amount  30 non-null     int64         \n",
      " 4   status        30 non-null     object        \n",
      "dtypes: datetime64[ns](1), int64(3), object(1)\n",
      "memory usage: 1.3+ KB\n"
     ]
    }
   ],
   "source": [
    "df_orders.info()"
   ]
  },
  {
   "cell_type": "markdown",
   "id": "78c8fcc6-fcc3-4dc0-a366-0f35eea673e6",
   "metadata": {},
   "source": [
    "# exporting datafarme to csv file for future use"
   ]
  },
  {
   "cell_type": "code",
   "execution_count": 215,
   "id": "dbc7d74d-721d-44bb-b7ef-33b0c40b2933",
   "metadata": {},
   "outputs": [],
   "source": [
    "df_orders.to_csv(r'C:\\Users\\Vinayak\\Data Analyst - Raw Data (1)\\formatted_datasets\\orders_formatted.csv', index=False)"
   ]
  },
  {
   "cell_type": "code",
   "execution_count": null,
   "id": "0abad26e-449c-4aef-ba21-f780de25dda1",
   "metadata": {},
   "outputs": [],
   "source": []
  },
  {
   "cell_type": "markdown",
   "id": "223bde28-1871-4a7d-9561-104885c25601",
   "metadata": {
    "scrolled": true
   },
   "source": [
    "df_products.head()"
   ]
  },
  {
   "cell_type": "code",
   "execution_count": 221,
   "id": "62b8d817-5872-4f7a-8980-98a7792f6f27",
   "metadata": {},
   "outputs": [
    {
     "data": {
      "text/plain": [
       "product_id      0\n",
       "product_name    0\n",
       "category        0\n",
       "price           0\n",
       "dtype: int64"
      ]
     },
     "execution_count": 221,
     "metadata": {},
     "output_type": "execute_result"
    }
   ],
   "source": [
    "df_products.isna().sum()"
   ]
  },
  {
   "cell_type": "code",
   "execution_count": 223,
   "id": "015cefb3-905b-4aa5-805b-debd1128fa92",
   "metadata": {},
   "outputs": [
    {
     "data": {
      "text/plain": [
       "0"
      ]
     },
     "execution_count": 223,
     "metadata": {},
     "output_type": "execute_result"
    }
   ],
   "source": [
    "df_products.duplicated().sum()"
   ]
  },
  {
   "cell_type": "code",
   "execution_count": 225,
   "id": "b65ebaed-a392-4702-b290-8495322d2a9a",
   "metadata": {},
   "outputs": [
    {
     "data": {
      "text/html": [
       "<div>\n",
       "<style scoped>\n",
       "    .dataframe tbody tr th:only-of-type {\n",
       "        vertical-align: middle;\n",
       "    }\n",
       "\n",
       "    .dataframe tbody tr th {\n",
       "        vertical-align: top;\n",
       "    }\n",
       "\n",
       "    .dataframe thead th {\n",
       "        text-align: right;\n",
       "    }\n",
       "</style>\n",
       "<table border=\"1\" class=\"dataframe\">\n",
       "  <thead>\n",
       "    <tr style=\"text-align: right;\">\n",
       "      <th></th>\n",
       "      <th>order_id</th>\n",
       "      <th>product_id</th>\n",
       "      <th>quantity</th>\n",
       "    </tr>\n",
       "  </thead>\n",
       "  <tbody>\n",
       "    <tr>\n",
       "      <th>0</th>\n",
       "      <td>1</td>\n",
       "      <td>1</td>\n",
       "      <td>2</td>\n",
       "    </tr>\n",
       "    <tr>\n",
       "      <th>1</th>\n",
       "      <td>1</td>\n",
       "      <td>3</td>\n",
       "      <td>1</td>\n",
       "    </tr>\n",
       "    <tr>\n",
       "      <th>2</th>\n",
       "      <td>2</td>\n",
       "      <td>4</td>\n",
       "      <td>1</td>\n",
       "    </tr>\n",
       "    <tr>\n",
       "      <th>3</th>\n",
       "      <td>3</td>\n",
       "      <td>6</td>\n",
       "      <td>1</td>\n",
       "    </tr>\n",
       "    <tr>\n",
       "      <th>4</th>\n",
       "      <td>3</td>\n",
       "      <td>8</td>\n",
       "      <td>1</td>\n",
       "    </tr>\n",
       "  </tbody>\n",
       "</table>\n",
       "</div>"
      ],
      "text/plain": [
       "   order_id  product_id  quantity\n",
       "0         1           1         2\n",
       "1         1           3         1\n",
       "2         2           4         1\n",
       "3         3           6         1\n",
       "4         3           8         1"
      ]
     },
     "execution_count": 225,
     "metadata": {},
     "output_type": "execute_result"
    }
   ],
   "source": [
    "df_order_items.head()"
   ]
  },
  {
   "cell_type": "code",
   "execution_count": 227,
   "id": "d17cd5f1-d94f-4a8c-9fbb-273f072d01cc",
   "metadata": {},
   "outputs": [
    {
     "data": {
      "text/plain": [
       "order_id      0\n",
       "product_id    0\n",
       "quantity      0\n",
       "dtype: int64"
      ]
     },
     "execution_count": 227,
     "metadata": {},
     "output_type": "execute_result"
    }
   ],
   "source": [
    "df_order_items.isna().sum()"
   ]
  },
  {
   "cell_type": "code",
   "execution_count": 229,
   "id": "60e08b2c-e456-4dfa-b2e2-ed910e2e16e3",
   "metadata": {},
   "outputs": [
    {
     "data": {
      "text/plain": [
       "0"
      ]
     },
     "execution_count": 229,
     "metadata": {},
     "output_type": "execute_result"
    }
   ],
   "source": [
    "df_order_items.duplicated().sum()"
   ]
  },
  {
   "cell_type": "code",
   "execution_count": 231,
   "id": "bada9960-47e8-44ee-8c59-b0d949f2a46a",
   "metadata": {},
   "outputs": [
    {
     "data": {
      "text/html": [
       "<div>\n",
       "<style scoped>\n",
       "    .dataframe tbody tr th:only-of-type {\n",
       "        vertical-align: middle;\n",
       "    }\n",
       "\n",
       "    .dataframe tbody tr th {\n",
       "        vertical-align: top;\n",
       "    }\n",
       "\n",
       "    .dataframe thead th {\n",
       "        text-align: right;\n",
       "    }\n",
       "</style>\n",
       "<table border=\"1\" class=\"dataframe\">\n",
       "  <thead>\n",
       "    <tr style=\"text-align: right;\">\n",
       "      <th></th>\n",
       "      <th>customer_id</th>\n",
       "      <th>name</th>\n",
       "      <th>email</th>\n",
       "      <th>location</th>\n",
       "      <th>signup_date</th>\n",
       "      <th>birthdate</th>\n",
       "    </tr>\n",
       "  </thead>\n",
       "  <tbody>\n",
       "    <tr>\n",
       "      <th>0</th>\n",
       "      <td>101</td>\n",
       "      <td>John Doe</td>\n",
       "      <td>john.doe@email.com</td>\n",
       "      <td>New York</td>\n",
       "      <td>2021-01-01</td>\n",
       "      <td>1990-05-14</td>\n",
       "    </tr>\n",
       "    <tr>\n",
       "      <th>1</th>\n",
       "      <td>102</td>\n",
       "      <td>Jane Smith</td>\n",
       "      <td>jane.smith@email.com</td>\n",
       "      <td>Los Angeles</td>\n",
       "      <td>2021-01-10</td>\n",
       "      <td>1985-11-22</td>\n",
       "    </tr>\n",
       "    <tr>\n",
       "      <th>2</th>\n",
       "      <td>103</td>\n",
       "      <td>Emily Davis</td>\n",
       "      <td>emily.davis@email.com</td>\n",
       "      <td>Chicago</td>\n",
       "      <td>2022-03-15</td>\n",
       "      <td>1992-07-30</td>\n",
       "    </tr>\n",
       "    <tr>\n",
       "      <th>3</th>\n",
       "      <td>104</td>\n",
       "      <td>Michael Brown</td>\n",
       "      <td>michael.brown@email.com</td>\n",
       "      <td>San Francisco</td>\n",
       "      <td>2020-06-10</td>\n",
       "      <td>1988-12-01</td>\n",
       "    </tr>\n",
       "    <tr>\n",
       "      <th>4</th>\n",
       "      <td>105</td>\n",
       "      <td>Amy White</td>\n",
       "      <td>amy.white@email.com</td>\n",
       "      <td>Miami</td>\n",
       "      <td>2021-08-22</td>\n",
       "      <td>1991-02-10</td>\n",
       "    </tr>\n",
       "  </tbody>\n",
       "</table>\n",
       "</div>"
      ],
      "text/plain": [
       "   customer_id           name                    email       location  \\\n",
       "0          101       John Doe       john.doe@email.com       New York   \n",
       "1          102     Jane Smith     jane.smith@email.com    Los Angeles   \n",
       "2          103    Emily Davis    emily.davis@email.com        Chicago   \n",
       "3          104  Michael Brown  michael.brown@email.com  San Francisco   \n",
       "4          105      Amy White      amy.white@email.com          Miami   \n",
       "\n",
       "  signup_date  birthdate  \n",
       "0  2021-01-01 1990-05-14  \n",
       "1  2021-01-10 1985-11-22  \n",
       "2  2022-03-15 1992-07-30  \n",
       "3  2020-06-10 1988-12-01  \n",
       "4  2021-08-22 1991-02-10  "
      ]
     },
     "execution_count": 231,
     "metadata": {},
     "output_type": "execute_result"
    }
   ],
   "source": [
    "df_customers.head()"
   ]
  },
  {
   "cell_type": "code",
   "execution_count": 233,
   "id": "f0d7b8e6-72da-40f6-a002-9871cfe1e777",
   "metadata": {},
   "outputs": [
    {
     "data": {
      "text/plain": [
       "customer_id    0\n",
       "name           0\n",
       "email          0\n",
       "location       0\n",
       "signup_date    0\n",
       "birthdate      0\n",
       "dtype: int64"
      ]
     },
     "execution_count": 233,
     "metadata": {},
     "output_type": "execute_result"
    }
   ],
   "source": [
    "df_customers.isna().sum()"
   ]
  },
  {
   "cell_type": "code",
   "execution_count": 235,
   "id": "ad4f2153-08c8-474f-971f-929cca446a6d",
   "metadata": {},
   "outputs": [
    {
     "data": {
      "text/plain": [
       "0"
      ]
     },
     "execution_count": 235,
     "metadata": {},
     "output_type": "execute_result"
    }
   ],
   "source": [
    "df_customers.duplicated().sum()"
   ]
  },
  {
   "cell_type": "code",
   "execution_count": 237,
   "id": "f9cac997-ebf2-4006-8651-1478d8e13a02",
   "metadata": {},
   "outputs": [
    {
     "name": "stdout",
     "output_type": "stream",
     "text": [
      "<class 'pandas.core.frame.DataFrame'>\n",
      "RangeIndex: 11 entries, 0 to 10\n",
      "Data columns (total 6 columns):\n",
      " #   Column       Non-Null Count  Dtype         \n",
      "---  ------       --------------  -----         \n",
      " 0   customer_id  11 non-null     int64         \n",
      " 1   name         11 non-null     object        \n",
      " 2   email        11 non-null     object        \n",
      " 3   location     11 non-null     object        \n",
      " 4   signup_date  11 non-null     datetime64[ns]\n",
      " 5   birthdate    11 non-null     datetime64[ns]\n",
      "dtypes: datetime64[ns](2), int64(1), object(3)\n",
      "memory usage: 660.0+ bytes\n"
     ]
    }
   ],
   "source": [
    "df_customers.info()"
   ]
  },
  {
   "cell_type": "code",
   "execution_count": 241,
   "id": "eba7c7a8-2ed0-432a-9777-3870014097f5",
   "metadata": {},
   "outputs": [],
   "source": [
    "df_customers[['signup_date','birthdate']]=df_customers[['signup_date','birthdate']].apply(pd.to_datetime)"
   ]
  },
  {
   "cell_type": "code",
   "execution_count": 243,
   "id": "d6179521-1fd4-472e-9a65-0f11c3dca3c2",
   "metadata": {},
   "outputs": [
    {
     "name": "stdout",
     "output_type": "stream",
     "text": [
      "<class 'pandas.core.frame.DataFrame'>\n",
      "RangeIndex: 11 entries, 0 to 10\n",
      "Data columns (total 6 columns):\n",
      " #   Column       Non-Null Count  Dtype         \n",
      "---  ------       --------------  -----         \n",
      " 0   customer_id  11 non-null     int64         \n",
      " 1   name         11 non-null     object        \n",
      " 2   email        11 non-null     object        \n",
      " 3   location     11 non-null     object        \n",
      " 4   signup_date  11 non-null     datetime64[ns]\n",
      " 5   birthdate    11 non-null     datetime64[ns]\n",
      "dtypes: datetime64[ns](2), int64(1), object(3)\n",
      "memory usage: 660.0+ bytes\n"
     ]
    }
   ],
   "source": [
    "df_customers.info()"
   ]
  },
  {
   "cell_type": "markdown",
   "id": "69173821-e028-4fd4-bfbc-2d6383a3d5b7",
   "metadata": {},
   "source": [
    "# exporting datafarme to csv file for future use"
   ]
  },
  {
   "cell_type": "code",
   "execution_count": 245,
   "id": "9ae5132e-fc59-4b39-912a-0409ffea2233",
   "metadata": {},
   "outputs": [],
   "source": [
    "df_customers.to_csv(r'C:\\Users\\Vinayak\\Data Analyst - Raw Data (1)\\formatted_datasets\\customers_formatted.csv', index=False)"
   ]
  }
 ],
 "metadata": {
  "kernelspec": {
   "display_name": "Python 3 (ipykernel)",
   "language": "python",
   "name": "python3"
  },
  "language_info": {
   "codemirror_mode": {
    "name": "ipython",
    "version": 3
   },
   "file_extension": ".py",
   "mimetype": "text/x-python",
   "name": "python",
   "nbconvert_exporter": "python",
   "pygments_lexer": "ipython3",
   "version": "3.12.7"
  }
 },
 "nbformat": 4,
 "nbformat_minor": 5
}
