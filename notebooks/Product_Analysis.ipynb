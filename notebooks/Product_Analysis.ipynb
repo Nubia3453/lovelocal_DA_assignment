{
 "cells": [
  {
   "cell_type": "markdown",
   "id": "a6d4c848-f9d5-43e5-bc57-3dc419782342",
   "metadata": {},
   "source": [
    "# Product Analysis"
   ]
  },
  {
   "cell_type": "code",
   "execution_count": null,
   "id": "dae075ab-bd54-4dab-923d-7ffa33c71e78",
   "metadata": {},
   "outputs": [],
   "source": [
    "# to revel answers to most common questions\n",
    "# product ranking\n",
    "# product popularity\n",
    "# rating \n",
    "# price elasticity effect"
   ]
  },
  {
   "cell_type": "code",
   "execution_count": null,
   "id": "df8cab89-6c89-479e-900f-9efdb0124ff4",
   "metadata": {},
   "outputs": [],
   "source": [
    "# importing necessary pakages"
   ]
  },
  {
   "cell_type": "code",
   "execution_count": 3,
   "id": "bb82ff37-19c5-4363-8253-bc425c11ad9c",
   "metadata": {},
   "outputs": [],
   "source": [
    "import pandas as pd\n",
    "from sklearn.cluster import KMeans\n",
    "from sklearn.preprocessing import StandardScaler\n",
    "import numpy as np\n",
    "import seaborn as sns\n",
    "import matplotlib.pyplot as plt"
   ]
  },
  {
   "cell_type": "code",
   "execution_count": null,
   "id": "4fcb7b06-8d8b-439d-973a-d3cd9fb9920a",
   "metadata": {},
   "outputs": [],
   "source": [
    "# path to requred datasets"
   ]
  },
  {
   "cell_type": "code",
   "execution_count": 5,
   "id": "702d38e8-38a6-4999-95d8-4c44e1ddbf62",
   "metadata": {},
   "outputs": [],
   "source": [
    "path_orders = r\"C:\\Users\\Vinayak\\Data Analyst - Raw Data (1)\\formatted_datasets\\orders_formatted.csv\"\n",
    "path_customers = r\"C:\\Users\\Vinayak\\Data Analyst - Raw Data (1)\\formatted_datasets\\customers_formatted.csv\"\n",
    "path_products = r\"C:\\Users\\Vinayak\\Data Analyst - Raw Data (1)\\formatted_datasets\\products_std_fotmatted.csv\"\n",
    "path_order_items = r\"C:\\Users\\Vinayak\\Data Analyst - Raw Data (1)\\Senior Data Analyst - Raw Data\\order_items.csv\"\n",
    "path_cust_rating = r\"C:\\Users\\Vinayak\\Data Analyst - Raw Data (1)\\formatted_datasets\\customer_reviews_formatted.csv\"\n",
    "segmentation_merge = r'C:\\Users\\Vinayak\\Data Analyst - Raw Data (1)\\merged_datasets\\cust_seg.csv'\n",
    "product_merge = r'C:\\Users\\Vinayak\\Data Analyst - Raw Data (1)\\merged_datasets\\prod_merge.csv'"
   ]
  },
  {
   "cell_type": "code",
   "execution_count": null,
   "id": "c663879d-ad7a-4fd6-acf6-6b94fb8d5f97",
   "metadata": {},
   "outputs": [],
   "source": [
    "# defining datasets"
   ]
  },
  {
   "cell_type": "code",
   "execution_count": 7,
   "id": "d687255c-50f4-48da-9857-c54953094d8a",
   "metadata": {},
   "outputs": [],
   "source": [
    "df_orders = pd.read_csv(path_orders)\n",
    "df_customers = pd.read_csv(path_customers)\n",
    "df_products = pd.read_csv(path_products)\n",
    "df_order_items = pd.read_csv(path_order_items)\n",
    "df_cust_rating = pd.read_csv(path_cust_rating)"
   ]
  },
  {
   "cell_type": "code",
   "execution_count": null,
   "id": "1da398f6-ce56-4911-972b-e71c25a8407e",
   "metadata": {},
   "outputs": [],
   "source": [
    "# special merged datasets created for analysis\n",
    "# combining orders + order items + products\n",
    "# this gives complete detail of a product including name, category, price, toatl purchse value and freqnecy of buying."
   ]
  },
  {
   "cell_type": "code",
   "execution_count": 9,
   "id": "0b46a27e-2dcb-4d62-8e11-e729adf92ae8",
   "metadata": {
    "scrolled": true
   },
   "outputs": [
    {
     "data": {
      "text/html": [
       "<div>\n",
       "<style scoped>\n",
       "    .dataframe tbody tr th:only-of-type {\n",
       "        vertical-align: middle;\n",
       "    }\n",
       "\n",
       "    .dataframe tbody tr th {\n",
       "        vertical-align: top;\n",
       "    }\n",
       "\n",
       "    .dataframe thead th {\n",
       "        text-align: right;\n",
       "    }\n",
       "</style>\n",
       "<table border=\"1\" class=\"dataframe\">\n",
       "  <thead>\n",
       "    <tr style=\"text-align: right;\">\n",
       "      <th></th>\n",
       "      <th>order_id</th>\n",
       "      <th>customer_id</th>\n",
       "      <th>order_date</th>\n",
       "      <th>total_amount</th>\n",
       "      <th>status</th>\n",
       "      <th>product_id</th>\n",
       "      <th>quantity</th>\n",
       "      <th>product_name</th>\n",
       "      <th>category</th>\n",
       "      <th>price</th>\n",
       "      <th>price_logged</th>\n",
       "    </tr>\n",
       "  </thead>\n",
       "  <tbody>\n",
       "    <tr>\n",
       "      <th>0</th>\n",
       "      <td>1</td>\n",
       "      <td>101</td>\n",
       "      <td>2023-01-05</td>\n",
       "      <td>250</td>\n",
       "      <td>completed</td>\n",
       "      <td>1</td>\n",
       "      <td>2</td>\n",
       "      <td>Wireless Mouse</td>\n",
       "      <td>Electronics</td>\n",
       "      <td>25</td>\n",
       "      <td>3.258097</td>\n",
       "    </tr>\n",
       "    <tr>\n",
       "      <th>1</th>\n",
       "      <td>1</td>\n",
       "      <td>101</td>\n",
       "      <td>2023-01-05</td>\n",
       "      <td>250</td>\n",
       "      <td>completed</td>\n",
       "      <td>3</td>\n",
       "      <td>1</td>\n",
       "      <td>Phone Case</td>\n",
       "      <td>Accessories</td>\n",
       "      <td>15</td>\n",
       "      <td>2.772589</td>\n",
       "    </tr>\n",
       "    <tr>\n",
       "      <th>2</th>\n",
       "      <td>2</td>\n",
       "      <td>102</td>\n",
       "      <td>2023-01-07</td>\n",
       "      <td>150</td>\n",
       "      <td>cancelled</td>\n",
       "      <td>4</td>\n",
       "      <td>1</td>\n",
       "      <td>Headphones</td>\n",
       "      <td>Electronics</td>\n",
       "      <td>100</td>\n",
       "      <td>4.615121</td>\n",
       "    </tr>\n",
       "    <tr>\n",
       "      <th>3</th>\n",
       "      <td>3</td>\n",
       "      <td>103</td>\n",
       "      <td>2023-01-10</td>\n",
       "      <td>300</td>\n",
       "      <td>completed</td>\n",
       "      <td>6</td>\n",
       "      <td>1</td>\n",
       "      <td>Smartwatch</td>\n",
       "      <td>Electronics</td>\n",
       "      <td>150</td>\n",
       "      <td>5.017280</td>\n",
       "    </tr>\n",
       "    <tr>\n",
       "      <th>4</th>\n",
       "      <td>3</td>\n",
       "      <td>103</td>\n",
       "      <td>2023-01-10</td>\n",
       "      <td>300</td>\n",
       "      <td>completed</td>\n",
       "      <td>8</td>\n",
       "      <td>1</td>\n",
       "      <td>Laptop</td>\n",
       "      <td>Electronics</td>\n",
       "      <td>1000</td>\n",
       "      <td>6.908755</td>\n",
       "    </tr>\n",
       "  </tbody>\n",
       "</table>\n",
       "</div>"
      ],
      "text/plain": [
       "   order_id  customer_id  order_date  total_amount     status  product_id  \\\n",
       "0         1          101  2023-01-05           250  completed           1   \n",
       "1         1          101  2023-01-05           250  completed           3   \n",
       "2         2          102  2023-01-07           150  cancelled           4   \n",
       "3         3          103  2023-01-10           300  completed           6   \n",
       "4         3          103  2023-01-10           300  completed           8   \n",
       "\n",
       "   quantity    product_name     category  price  price_logged  \n",
       "0         2  Wireless Mouse  Electronics     25      3.258097  \n",
       "1         1      Phone Case  Accessories     15      2.772589  \n",
       "2         1      Headphones  Electronics    100      4.615121  \n",
       "3         1      Smartwatch  Electronics    150      5.017280  \n",
       "4         1          Laptop  Electronics   1000      6.908755  "
      ]
     },
     "execution_count": 9,
     "metadata": {},
     "output_type": "execute_result"
    }
   ],
   "source": [
    "df_products_merge = df_orders.merge(df_order_items, on = 'order_id', how ='left' )\n",
    "df_products_merge.head()\n",
    "df_final_merge = df_products_merge.merge(df_products, on = 'product_id', how = 'left')\n",
    "df_final_merge.head()"
   ]
  },
  {
   "cell_type": "code",
   "execution_count": null,
   "id": "ca04ad63-43cc-4707-adaa-45f8093c1325",
   "metadata": {},
   "outputs": [],
   "source": [
    "# exporting dataframe into physical csv file"
   ]
  },
  {
   "cell_type": "code",
   "execution_count": 11,
   "id": "0952d9b2-6bbb-4bd6-a006-23e58beb567c",
   "metadata": {},
   "outputs": [],
   "source": [
    "df_final_merge.to_csv(product_merge, index = False)"
   ]
  },
  {
   "cell_type": "code",
   "execution_count": null,
   "id": "9cac90ba-10b6-4442-a6f6-369a0967333b",
   "metadata": {},
   "outputs": [],
   "source": [
    "# craeting a aggrigated dataframe\n",
    "# aggrigation includes.\n",
    "    # total amount (total sell) - addition of all order value\n",
    "    # freqency - count of order id"
   ]
  },
  {
   "cell_type": "code",
   "execution_count": 13,
   "id": "64885ed1-46de-4422-9e22-a22a62d9aeb0",
   "metadata": {
    "scrolled": true
   },
   "outputs": [
    {
     "data": {
      "text/html": [
       "<div>\n",
       "<style scoped>\n",
       "    .dataframe tbody tr th:only-of-type {\n",
       "        vertical-align: middle;\n",
       "    }\n",
       "\n",
       "    .dataframe tbody tr th {\n",
       "        vertical-align: top;\n",
       "    }\n",
       "\n",
       "    .dataframe thead th {\n",
       "        text-align: right;\n",
       "    }\n",
       "</style>\n",
       "<table border=\"1\" class=\"dataframe\">\n",
       "  <thead>\n",
       "    <tr style=\"text-align: right;\">\n",
       "      <th></th>\n",
       "      <th>Total Sell</th>\n",
       "      <th>Purchase Frequency</th>\n",
       "    </tr>\n",
       "    <tr>\n",
       "      <th>product_name</th>\n",
       "      <th></th>\n",
       "      <th></th>\n",
       "    </tr>\n",
       "  </thead>\n",
       "  <tbody>\n",
       "    <tr>\n",
       "      <th>Air Conditioner</th>\n",
       "      <td>550</td>\n",
       "      <td>1</td>\n",
       "    </tr>\n",
       "    <tr>\n",
       "      <th>Blender</th>\n",
       "      <td>900</td>\n",
       "      <td>1</td>\n",
       "    </tr>\n",
       "    <tr>\n",
       "      <th>Chair</th>\n",
       "      <td>850</td>\n",
       "      <td>2</td>\n",
       "    </tr>\n",
       "    <tr>\n",
       "      <th>Coffee Maker</th>\n",
       "      <td>250</td>\n",
       "      <td>1</td>\n",
       "    </tr>\n",
       "    <tr>\n",
       "      <th>Desk Lamp</th>\n",
       "      <td>320</td>\n",
       "      <td>2</td>\n",
       "    </tr>\n",
       "  </tbody>\n",
       "</table>\n",
       "</div>"
      ],
      "text/plain": [
       "                 Total Sell  Purchase Frequency\n",
       "product_name                                   \n",
       "Air Conditioner         550                   1\n",
       "Blender                 900                   1\n",
       "Chair                   850                   2\n",
       "Coffee Maker            250                   1\n",
       "Desk Lamp               320                   2"
      ]
     },
     "execution_count": 13,
     "metadata": {},
     "output_type": "execute_result"
    }
   ],
   "source": [
    "df_product_agg = df_final_merge.groupby('product_name').agg({\n",
    "    'total_amount': 'sum',    # Total spend\n",
    "    'order_id': 'count',      # Purchase frequency\n",
    "}).rename(columns={'total_amount': 'Total Sell', 'order_id': 'Purchase Frequency'})\n",
    "df_product_agg.head()"
   ]
  },
  {
   "cell_type": "code",
   "execution_count": null,
   "id": "d949a372-fb91-4628-a32b-3ee286b66717",
   "metadata": {},
   "outputs": [],
   "source": []
  },
  {
   "cell_type": "markdown",
   "id": "6d967edd-add6-4f76-a88a-b8b3bb56e56a",
   "metadata": {},
   "source": [
    "# Ranking"
   ]
  },
  {
   "cell_type": "code",
   "execution_count": null,
   "id": "78f6b230-71b7-4359-8003-90354b93e1c3",
   "metadata": {},
   "outputs": [],
   "source": [
    "# Top 5 / bottom 5 products by revenu"
   ]
  },
  {
   "cell_type": "code",
   "execution_count": null,
   "id": "9f50f1a1-6377-44bd-a58a-da36ffb6fcca",
   "metadata": {},
   "outputs": [],
   "source": [
    "# for this ranking the data is sorted assending and desceding order and then limited to 5 rows"
   ]
  },
  {
   "cell_type": "code",
   "execution_count": 15,
   "id": "e9ed6a8d-0f12-4c01-9b4d-98c244ccb722",
   "metadata": {
    "scrolled": true
   },
   "outputs": [
    {
     "name": "stderr",
     "output_type": "stream",
     "text": [
      "C:\\Users\\Vinayak\\AppData\\Local\\Temp\\ipykernel_13764\\1336905015.py:4: UserWarning: set_ticklabels() should only be used with a fixed number of ticks, i.e. after set_ticks() or using a FixedLocator.\n",
      "  axes[0].set_xticklabels(top_valued_products.index, rotation=90)\n",
      "C:\\Users\\Vinayak\\AppData\\Local\\Temp\\ipykernel_13764\\1336905015.py:11: UserWarning: set_ticklabels() should only be used with a fixed number of ticks, i.e. after set_ticks() or using a FixedLocator.\n",
      "  axes[1].set_xticklabels(top_selling_products.index, rotation=90)\n"
     ]
    },
    {
     "data": {
      "image/png": "[encoded data removed]",
      "text/plain": [
       "<Figure size 1200x500 with 2 Axes>"
      ]
     },
     "metadata": {},
     "output_type": "display_data"
    }
   ],
   "source": [
    "fig, axes = plt.subplots(1, 2, figsize=(12, 5))\n",
    "top_valued_products = df_product_agg.sort_values(by='Total Sell', ascending=False).head(5)\n",
    "sns.barplot(x=top_valued_products.index, y=top_valued_products['Total Sell'], ax=axes[0])\n",
    "axes[0].set_xticklabels(top_valued_products.index, rotation=90)\n",
    "axes[0].set_title(\"Top 5 Populer Products by Revenu\")\n",
    "plt.savefig(r\"C:\\Users\\Vinayak\\Data Analyst - Raw Data (1)\\graphs_and_visuals\\atop5_by_revenu.png\", dpi=300, bbox_inches=\"tight\")\n",
    "\n",
    "\n",
    "top_selling_products = df_product_agg.sort_values(by='Total Sell', ascending=True).head(5)\n",
    "sns.barplot(x=top_selling_products.index, y=top_selling_products['Total Sell'], ax=axes[1])\n",
    "axes[1].set_xticklabels(top_selling_products.index, rotation=90)\n",
    "axes[1].set_title(\"Top 5 Least Populer Products by Revenu\")\n",
    "plt.savefig(r\"C:\\Users\\Vinayak\\Data Analyst - Raw Data (1)\\graphs_and_visuals\\bottom5_by_revenu.png\", dpi=300, bbox_inches=\"tight\")\n",
    "\n",
    "plt.show()"
   ]
  },
  {
   "cell_type": "code",
   "execution_count": null,
   "id": "5b8f93b3-fd6b-4533-8d7f-559e402ed9f7",
   "metadata": {},
   "outputs": [],
   "source": [
    "# Top 5 most - least populer products by order frequency\n",
    "# this is to check if top values product are wheather frequntly bought "
   ]
  },
  {
   "cell_type": "code",
   "execution_count": 17,
   "id": "937b06da-53f8-4435-a606-51673de47261",
   "metadata": {
    "scrolled": true
   },
   "outputs": [
    {
     "name": "stderr",
     "output_type": "stream",
     "text": [
      "C:\\Users\\Vinayak\\AppData\\Local\\Temp\\ipykernel_13764\\2525279686.py:4: UserWarning: set_ticklabels() should only be used with a fixed number of ticks, i.e. after set_ticks() or using a FixedLocator.\n",
      "  axes[0].set_xticklabels(top_valued_products.index, rotation=90)\n",
      "C:\\Users\\Vinayak\\AppData\\Local\\Temp\\ipykernel_13764\\2525279686.py:11: UserWarning: set_ticklabels() should only be used with a fixed number of ticks, i.e. after set_ticks() or using a FixedLocator.\n",
      "  axes[1].set_xticklabels(top_selling_products.index, rotation=90)\n"
     ]
    },
    {
     "data": {
      "image/png": "[encoded data removed]",
      "text/plain": [
       "<Figure size 1200x500 with 2 Axes>"
      ]
     },
     "metadata": {},
     "output_type": "display_data"
    }
   ],
   "source": [
    "fig, axes = plt.subplots(1, 2, figsize=(12, 5))\n",
    "top_valued_products = df_product_agg.sort_values(by='Purchase Frequency', ascending=False).head(5)\n",
    "sns.barplot(x=top_valued_products.index, y=top_valued_products['Purchase Frequency'], ax=axes[0])\n",
    "axes[0].set_xticklabels(top_valued_products.index, rotation=90)\n",
    "axes[0].set_title(\"Top 5 Populer Products by Orders\")\n",
    "plt.savefig(r\"C:\\Users\\Vinayak\\Data Analyst - Raw Data (1)\\graphs_and_visuals\\atop5_by_order.png\", dpi=300, bbox_inches=\"tight\")\n",
    "\n",
    "\n",
    "top_selling_products = df_product_agg.sort_values(by='Purchase Frequency', ascending=True).head(5)\n",
    "sns.barplot(x=top_selling_products.index, y=top_selling_products['Purchase Frequency'], ax=axes[1])\n",
    "axes[1].set_xticklabels(top_selling_products.index, rotation=90)\n",
    "axes[1].set_title(\"Top 5 Least Populer Products by Orders\")\n",
    "plt.savefig(r\"C:\\Users\\Vinayak\\Data Analyst - Raw Data (1)\\graphs_and_visuals\\atop5_by_order.png\", dpi=300, bbox_inches=\"tight\")\n",
    "\n",
    "plt.show()"
   ]
  },
  {
   "cell_type": "markdown",
   "id": "d703f0ff-0639-4a6f-899a-640cc4b25124",
   "metadata": {},
   "source": [
    "# Furthur Analysis"
   ]
  },
  {
   "cell_type": "code",
   "execution_count": null,
   "id": "232af15f-dc49-41c4-bcc0-53ca1c25e083",
   "metadata": {},
   "outputs": [],
   "source": [
    "# this is expanded range for prodcut ranking, to count other products."
   ]
  },
  {
   "cell_type": "code",
   "execution_count": 19,
   "id": "6d60c127-52fc-4c3b-bb08-0cdf43aad5a1",
   "metadata": {
    "scrolled": true
   },
   "outputs": [
    {
     "name": "stderr",
     "output_type": "stream",
     "text": [
      "C:\\Users\\Vinayak\\AppData\\Local\\Temp\\ipykernel_13764\\3321550785.py:4: UserWarning: set_ticklabels() should only be used with a fixed number of ticks, i.e. after set_ticks() or using a FixedLocator.\n",
      "  axes[0].set_xticklabels(top_valued_products.index, rotation=90)\n",
      "C:\\Users\\Vinayak\\AppData\\Local\\Temp\\ipykernel_13764\\3321550785.py:10: UserWarning: set_ticklabels() should only be used with a fixed number of ticks, i.e. after set_ticks() or using a FixedLocator.\n",
      "  axes[1].set_xticklabels(top_selling_products.index, rotation=90)\n"
     ]
    },
    {
     "data": {
      "image/png": "[encoded data removed]",
      "text/plain": [
       "<Figure size 1200x500 with 2 Axes>"
      ]
     },
     "metadata": {},
     "output_type": "display_data"
    }
   ],
   "source": [
    "fig, axes = plt.subplots(1, 2, figsize=(12, 5))\n",
    "top_valued_products = df_product_agg.sort_values(by='Total Sell', ascending=False).head(10)\n",
    "sns.barplot(x=top_valued_products.index, y=top_valued_products['Total Sell'], ax=axes[0])\n",
    "axes[0].set_xticklabels(top_valued_products.index, rotation=90)\n",
    "axes[0].set_title(\"Top 10 High Valued Products\")\n",
    "\n",
    "\n",
    "top_selling_products = df_product_agg.sort_values(by='Purchase Frequency', ascending=False).head(10)\n",
    "sns.barplot(x=top_selling_products.index, y=top_selling_products['Purchase Frequency'], ax=axes[1])\n",
    "axes[1].set_xticklabels(top_selling_products.index, rotation=90)\n",
    "axes[1].set_title(\"Top 10 Most Selling Products\")\n",
    "\n",
    "plt.savefig(r\"C:\\Users\\Vinayak\\Data Analyst - Raw Data (1)\\graphs_and_visuals\\top10.png\", dpi=300, bbox_inches=\"tight\")\n",
    "\n",
    "plt.show()"
   ]
  },
  {
   "cell_type": "markdown",
   "id": "2562c847-7a92-48c5-8e37-76eb60b477f9",
   "metadata": {},
   "source": [
    "# Price Elasticity Analysis"
   ]
  },
  {
   "cell_type": "code",
   "execution_count": null,
   "id": "089e6456-7bc7-4808-a61b-cabbc32137e8",
   "metadata": {},
   "outputs": [],
   "source": [
    "# This is kind of analysis done on product price to check effect of product price change on product sale:"
   ]
  },
  {
   "cell_type": "code",
   "execution_count": null,
   "id": "e6f66c7b-9d90-49e5-b270-82aa76e40034",
   "metadata": {},
   "outputs": [],
   "source": [
    "# most of the focus will be on product price and order frequency\n",
    "# this defines relation betweem them and shows the affect of one on other"
   ]
  },
  {
   "cell_type": "code",
   "execution_count": 15,
   "id": "60af8b33-ff3b-4f81-b07e-9706681b9670",
   "metadata": {
    "scrolled": true
   },
   "outputs": [
    {
     "data": {
      "text/html": [
       "<div>\n",
       "<style scoped>\n",
       "    .dataframe tbody tr th:only-of-type {\n",
       "        vertical-align: middle;\n",
       "    }\n",
       "\n",
       "    .dataframe tbody tr th {\n",
       "        vertical-align: top;\n",
       "    }\n",
       "\n",
       "    .dataframe thead th {\n",
       "        text-align: right;\n",
       "    }\n",
       "</style>\n",
       "<table border=\"1\" class=\"dataframe\">\n",
       "  <thead>\n",
       "    <tr style=\"text-align: right;\">\n",
       "      <th></th>\n",
       "      <th>product_name</th>\n",
       "      <th>price</th>\n",
       "      <th>quantity</th>\n",
       "    </tr>\n",
       "  </thead>\n",
       "  <tbody>\n",
       "    <tr>\n",
       "      <th>0</th>\n",
       "      <td>Air Conditioner</td>\n",
       "      <td>350</td>\n",
       "      <td>1</td>\n",
       "    </tr>\n",
       "    <tr>\n",
       "      <th>1</th>\n",
       "      <td>Blender</td>\n",
       "      <td>80</td>\n",
       "      <td>1</td>\n",
       "    </tr>\n",
       "    <tr>\n",
       "      <th>2</th>\n",
       "      <td>Chair</td>\n",
       "      <td>100</td>\n",
       "      <td>2</td>\n",
       "    </tr>\n",
       "    <tr>\n",
       "      <th>3</th>\n",
       "      <td>Coffee Maker</td>\n",
       "      <td>70</td>\n",
       "      <td>1</td>\n",
       "    </tr>\n",
       "    <tr>\n",
       "      <th>4</th>\n",
       "      <td>Desk Lamp</td>\n",
       "      <td>60</td>\n",
       "      <td>2</td>\n",
       "    </tr>\n",
       "  </tbody>\n",
       "</table>\n",
       "</div>"
      ],
      "text/plain": [
       "      product_name  price  quantity\n",
       "0  Air Conditioner    350         1\n",
       "1          Blender     80         1\n",
       "2            Chair    100         2\n",
       "3     Coffee Maker     70         1\n",
       "4        Desk Lamp     60         2"
      ]
     },
     "execution_count": 15,
     "metadata": {},
     "output_type": "execute_result"
    }
   ],
   "source": [
    "df_price_elasticity = df_order_items.merge(df_products, on='product_id', how='left')\n",
    "df_price_elasticity = df_price_elasticity.groupby(['product_name', 'price']).agg({'quantity': 'sum'}).reset_index()\n",
    "df_price_elasticity.head()"
   ]
  },
  {
   "cell_type": "code",
   "execution_count": null,
   "id": "c9ab7068-e9cf-4d75-b760-3f2ad8220eb0",
   "metadata": {},
   "outputs": [],
   "source": []
  },
  {
   "cell_type": "code",
   "execution_count": 17,
   "id": "014e71f9-a334-429a-833e-ebf786eae5b4",
   "metadata": {},
   "outputs": [
    {
     "data": {
      "text/plain": [
       "product_name\n",
       "Air Conditioner    1\n",
       "Blender            1\n",
       "Chair              1\n",
       "Coffee Maker       1\n",
       "Desk Lamp          1\n",
       "Game Console       1\n",
       "Headphones         1\n",
       "Jeans              1\n",
       "Juicer             1\n",
       "Keyboard           1\n",
       "Laptop             1\n",
       "Laser Printer      1\n",
       "Microwave          1\n",
       "Phone Case         1\n",
       "Projector          1\n",
       "Refrigerator       1\n",
       "Shirt              1\n",
       "Smart Speaker      1\n",
       "Smart TV           1\n",
       "Smartphone         1\n",
       "Smartwatch         1\n",
       "Sofa               1\n",
       "Table              1\n",
       "Table Lamp         1\n",
       "Vacuum Cleaner     1\n",
       "Wireless Mouse     1\n",
       "Wrist Watch        1\n",
       "Name: price, dtype: int64"
      ]
     },
     "execution_count": 17,
     "metadata": {},
     "output_type": "execute_result"
    }
   ],
   "source": [
    "df_elasticity_check=df_price_elasticity.groupby(\"product_name\")[\"price\"].count()\n",
    "df_elasticity_check"
   ]
  },
  {
   "cell_type": "code",
   "execution_count": 85,
   "id": "4c4ac020-dc7a-4f2f-89a2-404086170ec6",
   "metadata": {},
   "outputs": [],
   "source": [
    "# all products have only one price entry, then price elasticity cannot be calculated.\n",
    "# Price elasticity requires at least two price points per product (e.g., before and after a price change)."
   ]
  },
  {
   "cell_type": "markdown",
   "id": "ca30d958-9daf-411c-a61f-23419e7b6515",
   "metadata": {},
   "source": [
    "# Identify High & Low Selling Products"
   ]
  },
  {
   "cell_type": "code",
   "execution_count": 21,
   "id": "95589b46-da20-406a-b5d6-b41dd4ccd346",
   "metadata": {
    "scrolled": true
   },
   "outputs": [
    {
     "data": {
      "text/html": [
       "<div>\n",
       "<style scoped>\n",
       "    .dataframe tbody tr th:only-of-type {\n",
       "        vertical-align: middle;\n",
       "    }\n",
       "\n",
       "    .dataframe tbody tr th {\n",
       "        vertical-align: top;\n",
       "    }\n",
       "\n",
       "    .dataframe thead th {\n",
       "        text-align: right;\n",
       "    }\n",
       "</style>\n",
       "<table border=\"1\" class=\"dataframe\">\n",
       "  <thead>\n",
       "    <tr style=\"text-align: right;\">\n",
       "      <th></th>\n",
       "      <th>quantity</th>\n",
       "    </tr>\n",
       "    <tr>\n",
       "      <th>product_name</th>\n",
       "      <th></th>\n",
       "    </tr>\n",
       "  </thead>\n",
       "  <tbody>\n",
       "    <tr>\n",
       "      <th>Smart Speaker</th>\n",
       "      <td>4</td>\n",
       "    </tr>\n",
       "    <tr>\n",
       "      <th>Wireless Mouse</th>\n",
       "      <td>3</td>\n",
       "    </tr>\n",
       "    <tr>\n",
       "      <th>Laptop</th>\n",
       "      <td>2</td>\n",
       "    </tr>\n",
       "    <tr>\n",
       "      <th>Shirt</th>\n",
       "      <td>2</td>\n",
       "    </tr>\n",
       "    <tr>\n",
       "      <th>Refrigerator</th>\n",
       "      <td>2</td>\n",
       "    </tr>\n",
       "    <tr>\n",
       "      <th>Smartwatch</th>\n",
       "      <td>2</td>\n",
       "    </tr>\n",
       "    <tr>\n",
       "      <th>Microwave</th>\n",
       "      <td>2</td>\n",
       "    </tr>\n",
       "    <tr>\n",
       "      <th>Table</th>\n",
       "      <td>2</td>\n",
       "    </tr>\n",
       "    <tr>\n",
       "      <th>Table Lamp</th>\n",
       "      <td>2</td>\n",
       "    </tr>\n",
       "    <tr>\n",
       "      <th>Juicer</th>\n",
       "      <td>2</td>\n",
       "    </tr>\n",
       "  </tbody>\n",
       "</table>\n",
       "</div>"
      ],
      "text/plain": [
       "                quantity\n",
       "product_name            \n",
       "Smart Speaker          4\n",
       "Wireless Mouse         3\n",
       "Laptop                 2\n",
       "Shirt                  2\n",
       "Refrigerator           2\n",
       "Smartwatch             2\n",
       "Microwave              2\n",
       "Table                  2\n",
       "Table Lamp             2\n",
       "Juicer                 2"
      ]
     },
     "execution_count": 21,
     "metadata": {},
     "output_type": "execute_result"
    }
   ],
   "source": [
    "# top-selling products based on total quantity sold.\n",
    "df_top_products = df_price_elasticity.groupby(\"product_name\").agg({\"quantity\": \"sum\"}).sort_values(\"quantity\", ascending=False)\n",
    "df_top_products.head(10)  # Top 10 bestsellers"
   ]
  },
  {
   "cell_type": "code",
   "execution_count": 88,
   "id": "cb9422ec-ab8b-4ee7-bda8-2c800b3ed5fa",
   "metadata": {
    "scrolled": true
   },
   "outputs": [],
   "source": [
    "# Analyze Revenue Contribution by Product"
   ]
  },
  {
   "cell_type": "code",
   "execution_count": 19,
   "id": "d78401ce-259d-40a1-9bc6-ec8e3185cf06",
   "metadata": {
    "scrolled": true
   },
   "outputs": [
    {
     "data": {
      "text/html": [
       "<div>\n",
       "<style scoped>\n",
       "    .dataframe tbody tr th:only-of-type {\n",
       "        vertical-align: middle;\n",
       "    }\n",
       "\n",
       "    .dataframe tbody tr th {\n",
       "        vertical-align: top;\n",
       "    }\n",
       "\n",
       "    .dataframe thead th {\n",
       "        text-align: right;\n",
       "    }\n",
       "</style>\n",
       "<table border=\"1\" class=\"dataframe\">\n",
       "  <thead>\n",
       "    <tr style=\"text-align: right;\">\n",
       "      <th></th>\n",
       "      <th>revenue</th>\n",
       "    </tr>\n",
       "    <tr>\n",
       "      <th>product_name</th>\n",
       "      <th></th>\n",
       "    </tr>\n",
       "  </thead>\n",
       "  <tbody>\n",
       "    <tr>\n",
       "      <th>Laptop</th>\n",
       "      <td>2000</td>\n",
       "    </tr>\n",
       "    <tr>\n",
       "      <th>Refrigerator</th>\n",
       "      <td>1600</td>\n",
       "    </tr>\n",
       "    <tr>\n",
       "      <th>Game Console</th>\n",
       "      <td>1000</td>\n",
       "    </tr>\n",
       "    <tr>\n",
       "      <th>Smart Speaker</th>\n",
       "      <td>800</td>\n",
       "    </tr>\n",
       "    <tr>\n",
       "      <th>Sofa</th>\n",
       "      <td>700</td>\n",
       "    </tr>\n",
       "    <tr>\n",
       "      <th>Smartphone</th>\n",
       "      <td>700</td>\n",
       "    </tr>\n",
       "    <tr>\n",
       "      <th>Smart TV</th>\n",
       "      <td>600</td>\n",
       "    </tr>\n",
       "    <tr>\n",
       "      <th>Projector</th>\n",
       "      <td>400</td>\n",
       "    </tr>\n",
       "    <tr>\n",
       "      <th>Air Conditioner</th>\n",
       "      <td>350</td>\n",
       "    </tr>\n",
       "    <tr>\n",
       "      <th>Table</th>\n",
       "      <td>300</td>\n",
       "    </tr>\n",
       "  </tbody>\n",
       "</table>\n",
       "</div>"
      ],
      "text/plain": [
       "                 revenue\n",
       "product_name            \n",
       "Laptop              2000\n",
       "Refrigerator        1600\n",
       "Game Console        1000\n",
       "Smart Speaker        800\n",
       "Sofa                 700\n",
       "Smartphone           700\n",
       "Smart TV             600\n",
       "Projector            400\n",
       "Air Conditioner      350\n",
       "Table                300"
      ]
     },
     "execution_count": 19,
     "metadata": {},
     "output_type": "execute_result"
    }
   ],
   "source": [
    "# products that generate the highest revenue.\n",
    "df_price_elasticity[\"revenue\"] = df_price_elasticity[\"price\"] * df_price_elasticity[\"quantity\"]\n",
    "df_revenue_analysis = df_price_elasticity.groupby(\"product_name\").agg({\"revenue\": \"sum\"}).sort_values(\"revenue\", ascending=False)\n",
    "df_revenue_analysis.head(10)  # Top 10 revenue-generating products"
   ]
  },
  {
   "cell_type": "markdown",
   "id": "a861a2f5-e5ff-4665-845d-ec6c87e47acc",
   "metadata": {},
   "source": [
    "# Visualize Price vs. Sales"
   ]
  },
  {
   "cell_type": "markdown",
   "id": "3a9715bd-6060-48a8-addc-088189a9dea6",
   "metadata": {},
   "source": [
    "# Interpretation:\n",
    "\n",
    "# If higher-priced products sell less → price-sensitive customers.\n",
    "\n",
    "# If high-priced products still sell well → premium products perform well."
   ]
  },
  {
   "cell_type": "code",
   "execution_count": 24,
   "id": "baf55a50-ea0e-4632-8569-c04c2d4f5f37",
   "metadata": {
    "scrolled": true
   },
   "outputs": [
    {
     "data": {
      "image/png": "[encoded data removed]",
      "text/plain": [
       "<Figure size 1000x600 with 1 Axes>"
      ]
     },
     "metadata": {},
     "output_type": "display_data"
    }
   ],
   "source": [
    "import seaborn as sns\n",
    "import matplotlib.pyplot as plt\n",
    "\n",
    "plt.figure(figsize=(10, 6))\n",
    "sns.scatterplot(x=df_price_elasticity[\"price\"], y=df_price_elasticity[\"quantity\"])\n",
    "plt.xlabel(\"Product Price\")\n",
    "plt.ylabel(\"Total Sales (Quantity)\")\n",
    "plt.title(\"Price vs. Sales Distribution\")\n",
    "plt.savefig(r\"C:\\Users\\Vinayak\\Data Analyst - Raw Data (1)\\graphs_and_visuals\\price_sale.png\", dpi=300, bbox_inches=\"tight\")\n",
    "plt.show()"
   ]
  },
  {
   "cell_type": "code",
   "execution_count": 36,
   "id": "c164c82c-81c7-4f32-95dd-d458bd0bd867",
   "metadata": {
    "scrolled": true
   },
   "outputs": [
    {
     "data": {
      "text/html": [
       "<div>\n",
       "<style scoped>\n",
       "    .dataframe tbody tr th:only-of-type {\n",
       "        vertical-align: middle;\n",
       "    }\n",
       "\n",
       "    .dataframe tbody tr th {\n",
       "        vertical-align: top;\n",
       "    }\n",
       "\n",
       "    .dataframe thead th {\n",
       "        text-align: right;\n",
       "    }\n",
       "</style>\n",
       "<table border=\"1\" class=\"dataframe\">\n",
       "  <thead>\n",
       "    <tr style=\"text-align: right;\">\n",
       "      <th></th>\n",
       "      <th>revenue</th>\n",
       "    </tr>\n",
       "    <tr>\n",
       "      <th>product_id</th>\n",
       "      <th></th>\n",
       "    </tr>\n",
       "  </thead>\n",
       "  <tbody>\n",
       "    <tr>\n",
       "      <th>8</th>\n",
       "      <td>2000</td>\n",
       "    </tr>\n",
       "    <tr>\n",
       "      <th>17</th>\n",
       "      <td>1600</td>\n",
       "    </tr>\n",
       "    <tr>\n",
       "      <th>12</th>\n",
       "      <td>1000</td>\n",
       "    </tr>\n",
       "    <tr>\n",
       "      <th>13</th>\n",
       "      <td>800</td>\n",
       "    </tr>\n",
       "    <tr>\n",
       "      <th>7</th>\n",
       "      <td>700</td>\n",
       "    </tr>\n",
       "  </tbody>\n",
       "</table>\n",
       "</div>"
      ],
      "text/plain": [
       "            revenue\n",
       "product_id         \n",
       "8              2000\n",
       "17             1600\n",
       "12             1000\n",
       "13              800\n",
       "7               700"
      ]
     },
     "execution_count": 36,
     "metadata": {},
     "output_type": "execute_result"
    }
   ],
   "source": [
    "df_price_elasticity = df_order_items.merge(df_products, on='product_id', how='left')\n",
    "df_price_elasticity = df_price_elasticity.groupby(['product_id', 'price']).agg({'quantity': 'sum'}).reset_index()\n",
    "df_top_products = df_price_elasticity.groupby(\"product_id\").agg({\"quantity\": \"sum\"}).sort_values(\"quantity\", ascending=False)\n",
    "df_price_elasticity[\"revenue\"] = df_price_elasticity[\"price\"] * df_price_elasticity[\"quantity\"]\n",
    "df_revenue_analysis = df_price_elasticity.groupby(\"product_id\").agg({\"revenue\": \"sum\"}).sort_values(\"revenue\", ascending=False)\n",
    "df_revenue_analysis.head()"
   ]
  },
  {
   "cell_type": "code",
   "execution_count": 28,
   "id": "d8dad38d-fd84-4bab-8252-1241d4be3535",
   "metadata": {},
   "outputs": [
    {
     "data": {
      "text/html": [
       "<div>\n",
       "<style scoped>\n",
       "    .dataframe tbody tr th:only-of-type {\n",
       "        vertical-align: middle;\n",
       "    }\n",
       "\n",
       "    .dataframe tbody tr th {\n",
       "        vertical-align: top;\n",
       "    }\n",
       "\n",
       "    .dataframe thead th {\n",
       "        text-align: right;\n",
       "    }\n",
       "</style>\n",
       "<table border=\"1\" class=\"dataframe\">\n",
       "  <thead>\n",
       "    <tr style=\"text-align: right;\">\n",
       "      <th></th>\n",
       "      <th>product_name</th>\n",
       "      <th>quantity</th>\n",
       "    </tr>\n",
       "  </thead>\n",
       "  <tbody>\n",
       "    <tr>\n",
       "      <th>0</th>\n",
       "      <td>Air Conditioner</td>\n",
       "      <td>1</td>\n",
       "    </tr>\n",
       "    <tr>\n",
       "      <th>1</th>\n",
       "      <td>Sofa</td>\n",
       "      <td>1</td>\n",
       "    </tr>\n",
       "    <tr>\n",
       "      <th>2</th>\n",
       "      <td>Smartphone</td>\n",
       "      <td>1</td>\n",
       "    </tr>\n",
       "    <tr>\n",
       "      <th>3</th>\n",
       "      <td>Smart TV</td>\n",
       "      <td>1</td>\n",
       "    </tr>\n",
       "    <tr>\n",
       "      <th>4</th>\n",
       "      <td>Projector</td>\n",
       "      <td>1</td>\n",
       "    </tr>\n",
       "    <tr>\n",
       "      <th>5</th>\n",
       "      <td>Laser Printer</td>\n",
       "      <td>1</td>\n",
       "    </tr>\n",
       "    <tr>\n",
       "      <th>6</th>\n",
       "      <td>Keyboard</td>\n",
       "      <td>1</td>\n",
       "    </tr>\n",
       "    <tr>\n",
       "      <th>7</th>\n",
       "      <td>Phone Case</td>\n",
       "      <td>1</td>\n",
       "    </tr>\n",
       "    <tr>\n",
       "      <th>8</th>\n",
       "      <td>Wrist Watch</td>\n",
       "      <td>1</td>\n",
       "    </tr>\n",
       "    <tr>\n",
       "      <th>9</th>\n",
       "      <td>Blender</td>\n",
       "      <td>1</td>\n",
       "    </tr>\n",
       "  </tbody>\n",
       "</table>\n",
       "</div>"
      ],
      "text/plain": [
       "      product_name  quantity\n",
       "0  Air Conditioner         1\n",
       "1             Sofa         1\n",
       "2       Smartphone         1\n",
       "3         Smart TV         1\n",
       "4        Projector         1\n",
       "5    Laser Printer         1\n",
       "6         Keyboard         1\n",
       "7       Phone Case         1\n",
       "8      Wrist Watch         1\n",
       "9          Blender         1"
      ]
     },
     "execution_count": 28,
     "metadata": {},
     "output_type": "execute_result"
    }
   ],
   "source": [
    "# top-selling products based on total quantity sold.\n",
    "df_top_products = df_price_elasticity.groupby(\"product_name\").agg({\"quantity\": \"sum\"}).sort_values(\"quantity\", ascending=True).reset_index()\n",
    "df_top_products.head(10)  # Top 10 bestsellers"
   ]
  },
  {
   "cell_type": "code",
   "execution_count": null,
   "id": "886fb37f-2423-414f-8ad3-45ddd7346da2",
   "metadata": {},
   "outputs": [],
   "source": [
    "Positive Correlation (near +1) → Higher price, higher sales (unlikely in most cases).\n",
    "\n",
    "Negative Correlation (near -1) → Higher price, lower sales (common in price-sensitive markets).\n",
    "\n",
    "Near Zero (0) → No strong relationship between price & sales."
   ]
  },
  {
   "cell_type": "code",
   "execution_count": 38,
   "id": "bff5389f-e5ff-4476-981e-4a9a2cb88e41",
   "metadata": {
    "scrolled": true
   },
   "outputs": [
    {
     "data": {
      "image/png": "[encoded data removed]",
      "text/plain": [
       "<Figure size 800x500 with 2 Axes>"
      ]
     },
     "metadata": {},
     "output_type": "display_data"
    }
   ],
   "source": [
    "plt.figure(figsize=(8, 5))\n",
    "sns.heatmap(df_price_elasticity[['price','quantity']].corr(), annot=True, cmap='coolwarm', fmt='.2f')\n",
    "plt.title(\"Correlation Heatmap for Price-Quantity\")\n",
    "plt.show()"
   ]
  },
  {
   "cell_type": "code",
   "execution_count": null,
   "id": "4fe63eef-610e-4966-8307-c084742d8479",
   "metadata": {},
   "outputs": [],
   "source": [
    "Correlation is -0.12 → Very weak negative correlation.\n",
    "Price barely affects quantity sold;"
   ]
  },
  {
   "cell_type": "markdown",
   "id": "47aa718b-465d-4b7f-986a-442f64f98b34",
   "metadata": {},
   "source": [
    "# Analyze & Visualize Product Ratings by Category"
   ]
  },
  {
   "cell_type": "code",
   "execution_count": null,
   "id": "d7f10be3-a8e0-4a38-becc-197d92a44519",
   "metadata": {},
   "outputs": [],
   "source": [
    "# checking if rating of product contributes to low sell of product.\n",
    "# low rating means negative feedback, which may affect the buy decision of customer"
   ]
  },
  {
   "cell_type": "code",
   "execution_count": null,
   "id": "44d0c3d1-5d00-4d66-961c-c35d7ad4ec7c",
   "metadata": {},
   "outputs": [],
   "source": [
    "# merging product review data with products details "
   ]
  },
  {
   "cell_type": "code",
   "execution_count": 33,
   "id": "f75ec27f-8862-460f-9e55-5e3f35417f67",
   "metadata": {},
   "outputs": [
    {
     "data": {
      "text/html": [
       "<div>\n",
       "<style scoped>\n",
       "    .dataframe tbody tr th:only-of-type {\n",
       "        vertical-align: middle;\n",
       "    }\n",
       "\n",
       "    .dataframe tbody tr th {\n",
       "        vertical-align: top;\n",
       "    }\n",
       "\n",
       "    .dataframe thead th {\n",
       "        text-align: right;\n",
       "    }\n",
       "</style>\n",
       "<table border=\"1\" class=\"dataframe\">\n",
       "  <thead>\n",
       "    <tr style=\"text-align: right;\">\n",
       "      <th></th>\n",
       "      <th>review_id</th>\n",
       "      <th>order_id</th>\n",
       "      <th>product_id</th>\n",
       "      <th>rating</th>\n",
       "      <th>review_text</th>\n",
       "      <th>review_date</th>\n",
       "      <th>product_name</th>\n",
       "      <th>category</th>\n",
       "      <th>price</th>\n",
       "      <th>price_logged</th>\n",
       "    </tr>\n",
       "  </thead>\n",
       "  <tbody>\n",
       "    <tr>\n",
       "      <th>0</th>\n",
       "      <td>1</td>\n",
       "      <td>1</td>\n",
       "      <td>1</td>\n",
       "      <td>4</td>\n",
       "      <td>Good product</td>\n",
       "      <td>2023-01-07</td>\n",
       "      <td>Wireless Mouse</td>\n",
       "      <td>Electronics</td>\n",
       "      <td>25</td>\n",
       "      <td>3.258097</td>\n",
       "    </tr>\n",
       "    <tr>\n",
       "      <th>1</th>\n",
       "      <td>2</td>\n",
       "      <td>1</td>\n",
       "      <td>3</td>\n",
       "      <td>5</td>\n",
       "      <td>Excellent quality!</td>\n",
       "      <td>2023-01-07</td>\n",
       "      <td>Phone Case</td>\n",
       "      <td>Accessories</td>\n",
       "      <td>15</td>\n",
       "      <td>2.772589</td>\n",
       "    </tr>\n",
       "    <tr>\n",
       "      <th>2</th>\n",
       "      <td>3</td>\n",
       "      <td>2</td>\n",
       "      <td>4</td>\n",
       "      <td>3</td>\n",
       "      <td>Average quality</td>\n",
       "      <td>2023-01-09</td>\n",
       "      <td>Headphones</td>\n",
       "      <td>Electronics</td>\n",
       "      <td>100</td>\n",
       "      <td>4.615121</td>\n",
       "    </tr>\n",
       "    <tr>\n",
       "      <th>3</th>\n",
       "      <td>4</td>\n",
       "      <td>3</td>\n",
       "      <td>6</td>\n",
       "      <td>4</td>\n",
       "      <td>Good value for money</td>\n",
       "      <td>2023-01-12</td>\n",
       "      <td>Smartwatch</td>\n",
       "      <td>Electronics</td>\n",
       "      <td>150</td>\n",
       "      <td>5.017280</td>\n",
       "    </tr>\n",
       "    <tr>\n",
       "      <th>4</th>\n",
       "      <td>5</td>\n",
       "      <td>3</td>\n",
       "      <td>8</td>\n",
       "      <td>2</td>\n",
       "      <td>Not as expected</td>\n",
       "      <td>2023-01-12</td>\n",
       "      <td>Laptop</td>\n",
       "      <td>Electronics</td>\n",
       "      <td>1000</td>\n",
       "      <td>6.908755</td>\n",
       "    </tr>\n",
       "  </tbody>\n",
       "</table>\n",
       "</div>"
      ],
      "text/plain": [
       "   review_id  order_id  product_id  rating           review_text review_date  \\\n",
       "0          1         1           1       4          Good product  2023-01-07   \n",
       "1          2         1           3       5    Excellent quality!  2023-01-07   \n",
       "2          3         2           4       3       Average quality  2023-01-09   \n",
       "3          4         3           6       4  Good value for money  2023-01-12   \n",
       "4          5         3           8       2       Not as expected  2023-01-12   \n",
       "\n",
       "     product_name     category  price  price_logged  \n",
       "0  Wireless Mouse  Electronics     25      3.258097  \n",
       "1      Phone Case  Accessories     15      2.772589  \n",
       "2      Headphones  Electronics    100      4.615121  \n",
       "3      Smartwatch  Electronics    150      5.017280  \n",
       "4          Laptop  Electronics   1000      6.908755  "
      ]
     },
     "execution_count": 33,
     "metadata": {},
     "output_type": "execute_result"
    }
   ],
   "source": [
    "df_rating = df_cust_rating.merge(df_products, on= 'product_id', how='left')\n",
    "df_rating.head()"
   ]
  },
  {
   "cell_type": "code",
   "execution_count": null,
   "id": "d79fa3a4-3eea-495f-9773-e00283b9dd44",
   "metadata": {},
   "outputs": [],
   "source": [
    "# Visualize Rating Distribution"
   ]
  },
  {
   "cell_type": "code",
   "execution_count": null,
   "id": "dc82c120-6462-46f2-bc3c-a1a3af40c704",
   "metadata": {},
   "outputs": [],
   "source": [
    "# use of histogram shows the ditribution of data "
   ]
  },
  {
   "cell_type": "code",
   "execution_count": 35,
   "id": "f991e7f4-cda6-47c6-9b33-29994df9f74a",
   "metadata": {
    "scrolled": true
   },
   "outputs": [
    {
     "data": {
      "image/png": "[encoded data removed]",
      "text/plain": [
       "<Figure size 1000x500 with 1 Axes>"
      ]
     },
     "metadata": {},
     "output_type": "display_data"
    }
   ],
   "source": [
    "fig, axes = plt.subplots(1, 1, figsize = (10, 5))\n",
    "sns.histplot(df_rating['rating'], bins = 5, kde = True)\n",
    "axes.set_title('Customer Rating Distribution')\n",
    "plt.savefig(r\"C:\\Users\\Vinayak\\Data Analyst - Raw Data (1)\\graphs_and_visuals\\ratingvssales.png\", dpi=300, bbox_inches=\"tight\")\n",
    "plt.show()"
   ]
  },
  {
   "cell_type": "code",
   "execution_count": null,
   "id": "285b9334-c238-4d6a-a227-5af6dbb55f0f",
   "metadata": {},
   "outputs": [],
   "source": [
    "# left-skewed histogram - Most of the data values tend to cluster towards the right side of the x-axis\n",
    "# indicates most of the products are top rated, exept for few lower rating"
   ]
  },
  {
   "cell_type": "code",
   "execution_count": null,
   "id": "9d741f00-6d39-42c6-b182-b1fd2e04fb45",
   "metadata": {},
   "outputs": [],
   "source": [
    "# visualize product rating by category and its variation"
   ]
  },
  {
   "cell_type": "code",
   "execution_count": 37,
   "id": "8a6a9055-eed2-41d7-937e-14ae0dd60082",
   "metadata": {},
   "outputs": [
    {
     "name": "stderr",
     "output_type": "stream",
     "text": [
      "C:\\Users\\Vinayak\\AppData\\Local\\Temp\\ipykernel_10348\\3302882574.py:2: FutureWarning: \n",
      "\n",
      "Passing `palette` without assigning `hue` is deprecated and will be removed in v0.14.0. Assign the `x` variable to `hue` and set `legend=False` for the same effect.\n",
      "\n",
      "  sns.boxplot(x=\"category\", y=\"rating\", data=df_rating, palette = 'coolwarm')\n"
     ]
    },
    {
     "data": {
      "image/png": "[encoded data removed]",
      "text/plain": [
       "<Figure size 1000x600 with 1 Axes>"
      ]
     },
     "metadata": {},
     "output_type": "display_data"
    }
   ],
   "source": [
    "plt.figure(figsize=(10, 6))\n",
    "sns.boxplot(x=\"category\", y=\"rating\", data=df_rating, palette = 'coolwarm')\n",
    "plt.xticks(rotation=45)\n",
    "plt.title(\"Product Ratings by Category\")\n",
    "plt.savefig(r\"C:\\Users\\Vinayak\\Data Analyst - Raw Data (1)\\graphs_and_visuals\\rating_box_plot.png\", dpi=300, bbox_inches=\"tight\")\n",
    "plt.show()"
   ]
  },
  {
   "cell_type": "markdown",
   "id": "9a49b2a3-3ada-4939-ba7e-a2f67190ff43",
   "metadata": {},
   "source": [
    "# Product Rating Analysis"
   ]
  },
  {
   "cell_type": "code",
   "execution_count": null,
   "id": "ab0c9d94-aee6-4a63-98ca-ca0690c1e017",
   "metadata": {},
   "outputs": [],
   "source": [
    "# Investigate Low-Rated Categories for Improvement\n",
    "# Goal: Identify why some categories/products have lower ratings."
   ]
  },
  {
   "cell_type": "code",
   "execution_count": 46,
   "id": "02c3747a-db3a-4128-bff1-bf9d2f39e991",
   "metadata": {
    "scrolled": true
   },
   "outputs": [
    {
     "data": {
      "text/html": [
       "<div>\n",
       "<style scoped>\n",
       "    .dataframe tbody tr th:only-of-type {\n",
       "        vertical-align: middle;\n",
       "    }\n",
       "\n",
       "    .dataframe tbody tr th {\n",
       "        vertical-align: top;\n",
       "    }\n",
       "\n",
       "    .dataframe thead th {\n",
       "        text-align: right;\n",
       "    }\n",
       "</style>\n",
       "<table border=\"1\" class=\"dataframe\">\n",
       "  <thead>\n",
       "    <tr style=\"text-align: right;\">\n",
       "      <th></th>\n",
       "      <th>review_id</th>\n",
       "      <th>order_id</th>\n",
       "      <th>product_id</th>\n",
       "      <th>rating</th>\n",
       "      <th>review_text</th>\n",
       "      <th>review_date</th>\n",
       "      <th>product_name</th>\n",
       "      <th>category</th>\n",
       "      <th>price</th>\n",
       "      <th>price_logged</th>\n",
       "    </tr>\n",
       "  </thead>\n",
       "  <tbody>\n",
       "    <tr>\n",
       "      <th>0</th>\n",
       "      <td>1</td>\n",
       "      <td>1</td>\n",
       "      <td>1</td>\n",
       "      <td>4</td>\n",
       "      <td>Good product</td>\n",
       "      <td>2023-01-07</td>\n",
       "      <td>Wireless Mouse</td>\n",
       "      <td>Electronics</td>\n",
       "      <td>25</td>\n",
       "      <td>3.258097</td>\n",
       "    </tr>\n",
       "    <tr>\n",
       "      <th>1</th>\n",
       "      <td>2</td>\n",
       "      <td>1</td>\n",
       "      <td>3</td>\n",
       "      <td>5</td>\n",
       "      <td>Excellent quality!</td>\n",
       "      <td>2023-01-07</td>\n",
       "      <td>Phone Case</td>\n",
       "      <td>Accessories</td>\n",
       "      <td>15</td>\n",
       "      <td>2.772589</td>\n",
       "    </tr>\n",
       "    <tr>\n",
       "      <th>2</th>\n",
       "      <td>3</td>\n",
       "      <td>2</td>\n",
       "      <td>4</td>\n",
       "      <td>3</td>\n",
       "      <td>Average quality</td>\n",
       "      <td>2023-01-09</td>\n",
       "      <td>Headphones</td>\n",
       "      <td>Electronics</td>\n",
       "      <td>100</td>\n",
       "      <td>4.615121</td>\n",
       "    </tr>\n",
       "    <tr>\n",
       "      <th>3</th>\n",
       "      <td>4</td>\n",
       "      <td>3</td>\n",
       "      <td>6</td>\n",
       "      <td>4</td>\n",
       "      <td>Good value for money</td>\n",
       "      <td>2023-01-12</td>\n",
       "      <td>Smartwatch</td>\n",
       "      <td>Electronics</td>\n",
       "      <td>150</td>\n",
       "      <td>5.017280</td>\n",
       "    </tr>\n",
       "    <tr>\n",
       "      <th>4</th>\n",
       "      <td>5</td>\n",
       "      <td>3</td>\n",
       "      <td>8</td>\n",
       "      <td>2</td>\n",
       "      <td>Not as expected</td>\n",
       "      <td>2023-01-12</td>\n",
       "      <td>Laptop</td>\n",
       "      <td>Electronics</td>\n",
       "      <td>1000</td>\n",
       "      <td>6.908755</td>\n",
       "    </tr>\n",
       "  </tbody>\n",
       "</table>\n",
       "</div>"
      ],
      "text/plain": [
       "   review_id  order_id  product_id  rating           review_text review_date  \\\n",
       "0          1         1           1       4          Good product  2023-01-07   \n",
       "1          2         1           3       5    Excellent quality!  2023-01-07   \n",
       "2          3         2           4       3       Average quality  2023-01-09   \n",
       "3          4         3           6       4  Good value for money  2023-01-12   \n",
       "4          5         3           8       2       Not as expected  2023-01-12   \n",
       "\n",
       "     product_name     category  price  price_logged  \n",
       "0  Wireless Mouse  Electronics     25      3.258097  \n",
       "1      Phone Case  Accessories     15      2.772589  \n",
       "2      Headphones  Electronics    100      4.615121  \n",
       "3      Smartwatch  Electronics    150      5.017280  \n",
       "4          Laptop  Electronics   1000      6.908755  "
      ]
     },
     "execution_count": 46,
     "metadata": {},
     "output_type": "execute_result"
    }
   ],
   "source": [
    "df_rating.head()"
   ]
  },
  {
   "cell_type": "code",
   "execution_count": 48,
   "id": "ef9e0822-5e0e-4b18-b862-568ba12e0487",
   "metadata": {
    "scrolled": true
   },
   "outputs": [
    {
     "data": {
      "text/html": [
       "<div>\n",
       "<style scoped>\n",
       "    .dataframe tbody tr th:only-of-type {\n",
       "        vertical-align: middle;\n",
       "    }\n",
       "\n",
       "    .dataframe tbody tr th {\n",
       "        vertical-align: top;\n",
       "    }\n",
       "\n",
       "    .dataframe thead th {\n",
       "        text-align: right;\n",
       "    }\n",
       "</style>\n",
       "<table border=\"1\" class=\"dataframe\">\n",
       "  <thead>\n",
       "    <tr style=\"text-align: right;\">\n",
       "      <th></th>\n",
       "      <th>review_id</th>\n",
       "      <th>order_id</th>\n",
       "      <th>product_id</th>\n",
       "      <th>rating</th>\n",
       "      <th>review_text</th>\n",
       "      <th>review_date</th>\n",
       "      <th>product_name</th>\n",
       "      <th>category</th>\n",
       "      <th>price</th>\n",
       "      <th>price_logged</th>\n",
       "    </tr>\n",
       "  </thead>\n",
       "  <tbody>\n",
       "    <tr>\n",
       "      <th>2</th>\n",
       "      <td>3</td>\n",
       "      <td>2</td>\n",
       "      <td>4</td>\n",
       "      <td>3</td>\n",
       "      <td>Average quality</td>\n",
       "      <td>2023-01-09</td>\n",
       "      <td>Headphones</td>\n",
       "      <td>Electronics</td>\n",
       "      <td>100</td>\n",
       "      <td>4.615121</td>\n",
       "    </tr>\n",
       "    <tr>\n",
       "      <th>4</th>\n",
       "      <td>5</td>\n",
       "      <td>3</td>\n",
       "      <td>8</td>\n",
       "      <td>2</td>\n",
       "      <td>Not as expected</td>\n",
       "      <td>2023-01-12</td>\n",
       "      <td>Laptop</td>\n",
       "      <td>Electronics</td>\n",
       "      <td>1000</td>\n",
       "      <td>6.908755</td>\n",
       "    </tr>\n",
       "    <tr>\n",
       "      <th>8</th>\n",
       "      <td>9</td>\n",
       "      <td>7</td>\n",
       "      <td>5</td>\n",
       "      <td>3</td>\n",
       "      <td>Could be better</td>\n",
       "      <td>2023-03-18</td>\n",
       "      <td>Desk Lamp</td>\n",
       "      <td>Furniture</td>\n",
       "      <td>60</td>\n",
       "      <td>4.110874</td>\n",
       "    </tr>\n",
       "    <tr>\n",
       "      <th>15</th>\n",
       "      <td>16</td>\n",
       "      <td>14</td>\n",
       "      <td>12</td>\n",
       "      <td>3</td>\n",
       "      <td>Okay but expensive</td>\n",
       "      <td>2023-06-11</td>\n",
       "      <td>Game Console</td>\n",
       "      <td>Electronics</td>\n",
       "      <td>500</td>\n",
       "      <td>6.216606</td>\n",
       "    </tr>\n",
       "    <tr>\n",
       "      <th>17</th>\n",
       "      <td>18</td>\n",
       "      <td>16</td>\n",
       "      <td>22</td>\n",
       "      <td>3</td>\n",
       "      <td>Not as expected</td>\n",
       "      <td>2023-07-10</td>\n",
       "      <td>Air Conditioner</td>\n",
       "      <td>Appliances</td>\n",
       "      <td>350</td>\n",
       "      <td>5.860786</td>\n",
       "    </tr>\n",
       "    <tr>\n",
       "      <th>20</th>\n",
       "      <td>21</td>\n",
       "      <td>19</td>\n",
       "      <td>24</td>\n",
       "      <td>3</td>\n",
       "      <td>Just fine</td>\n",
       "      <td>2023-09-06</td>\n",
       "      <td>Juicer</td>\n",
       "      <td>Appliances</td>\n",
       "      <td>60</td>\n",
       "      <td>4.110874</td>\n",
       "    </tr>\n",
       "    <tr>\n",
       "      <th>27</th>\n",
       "      <td>28</td>\n",
       "      <td>26</td>\n",
       "      <td>30</td>\n",
       "      <td>3</td>\n",
       "      <td>Okay</td>\n",
       "      <td>2023-11-14</td>\n",
       "      <td>Jeans</td>\n",
       "      <td>Clothing</td>\n",
       "      <td>50</td>\n",
       "      <td>3.931826</td>\n",
       "    </tr>\n",
       "  </tbody>\n",
       "</table>\n",
       "</div>"
      ],
      "text/plain": [
       "    review_id  order_id  product_id  rating         review_text review_date  \\\n",
       "2           3         2           4       3     Average quality  2023-01-09   \n",
       "4           5         3           8       2     Not as expected  2023-01-12   \n",
       "8           9         7           5       3     Could be better  2023-03-18   \n",
       "15         16        14          12       3  Okay but expensive  2023-06-11   \n",
       "17         18        16          22       3     Not as expected  2023-07-10   \n",
       "20         21        19          24       3           Just fine  2023-09-06   \n",
       "27         28        26          30       3                Okay  2023-11-14   \n",
       "\n",
       "       product_name     category  price  price_logged  \n",
       "2        Headphones  Electronics    100      4.615121  \n",
       "4            Laptop  Electronics   1000      6.908755  \n",
       "8         Desk Lamp    Furniture     60      4.110874  \n",
       "15     Game Console  Electronics    500      6.216606  \n",
       "17  Air Conditioner   Appliances    350      5.860786  \n",
       "20           Juicer   Appliances     60      4.110874  \n",
       "27            Jeans     Clothing     50      3.931826  "
      ]
     },
     "execution_count": 48,
     "metadata": {},
     "output_type": "execute_result"
    }
   ],
   "source": [
    "df_low_rated = df_rating[df_rating['rating'] < 3.5]\n",
    "df_low_rated"
   ]
  },
  {
   "cell_type": "code",
   "execution_count": 50,
   "id": "eaef87a3-11a2-4ac7-adb1-39c3f4ec0e62",
   "metadata": {
    "scrolled": true
   },
   "outputs": [
    {
     "data": {
      "text/plain": [
       "category\n",
       "Electronics    3\n",
       "Appliances     2\n",
       "Furniture      1\n",
       "Clothing       1\n",
       "Name: count, dtype: int64"
      ]
     },
     "execution_count": 50,
     "metadata": {},
     "output_type": "execute_result"
    }
   ],
   "source": [
    "df_low_rated['category'].value_counts()"
   ]
  },
  {
   "cell_type": "code",
   "execution_count": 52,
   "id": "f7f2d8d4-a3c2-4b1b-b497-d9e52c57e95c",
   "metadata": {
    "scrolled": true
   },
   "outputs": [
    {
     "data": {
      "text/html": [
       "<div>\n",
       "<style scoped>\n",
       "    .dataframe tbody tr th:only-of-type {\n",
       "        vertical-align: middle;\n",
       "    }\n",
       "\n",
       "    .dataframe tbody tr th {\n",
       "        vertical-align: top;\n",
       "    }\n",
       "\n",
       "    .dataframe thead th {\n",
       "        text-align: right;\n",
       "    }\n",
       "</style>\n",
       "<table border=\"1\" class=\"dataframe\">\n",
       "  <thead>\n",
       "    <tr style=\"text-align: right;\">\n",
       "      <th></th>\n",
       "      <th>order_id</th>\n",
       "      <th>customer_id</th>\n",
       "      <th>order_date</th>\n",
       "      <th>total_amount</th>\n",
       "      <th>status</th>\n",
       "      <th>product_id</th>\n",
       "      <th>quantity</th>\n",
       "      <th>product_name</th>\n",
       "      <th>category</th>\n",
       "      <th>price</th>\n",
       "      <th>price_logged</th>\n",
       "    </tr>\n",
       "  </thead>\n",
       "  <tbody>\n",
       "    <tr>\n",
       "      <th>0</th>\n",
       "      <td>1</td>\n",
       "      <td>101</td>\n",
       "      <td>2023-01-05</td>\n",
       "      <td>250</td>\n",
       "      <td>completed</td>\n",
       "      <td>1</td>\n",
       "      <td>2</td>\n",
       "      <td>Wireless Mouse</td>\n",
       "      <td>Electronics</td>\n",
       "      <td>25</td>\n",
       "      <td>3.258097</td>\n",
       "    </tr>\n",
       "    <tr>\n",
       "      <th>2</th>\n",
       "      <td>2</td>\n",
       "      <td>102</td>\n",
       "      <td>2023-01-07</td>\n",
       "      <td>150</td>\n",
       "      <td>cancelled</td>\n",
       "      <td>4</td>\n",
       "      <td>1</td>\n",
       "      <td>Headphones</td>\n",
       "      <td>Electronics</td>\n",
       "      <td>100</td>\n",
       "      <td>4.615121</td>\n",
       "    </tr>\n",
       "    <tr>\n",
       "      <th>3</th>\n",
       "      <td>3</td>\n",
       "      <td>103</td>\n",
       "      <td>2023-01-10</td>\n",
       "      <td>300</td>\n",
       "      <td>completed</td>\n",
       "      <td>6</td>\n",
       "      <td>1</td>\n",
       "      <td>Smartwatch</td>\n",
       "      <td>Electronics</td>\n",
       "      <td>150</td>\n",
       "      <td>5.017280</td>\n",
       "    </tr>\n",
       "    <tr>\n",
       "      <th>4</th>\n",
       "      <td>3</td>\n",
       "      <td>103</td>\n",
       "      <td>2023-01-10</td>\n",
       "      <td>300</td>\n",
       "      <td>completed</td>\n",
       "      <td>8</td>\n",
       "      <td>1</td>\n",
       "      <td>Laptop</td>\n",
       "      <td>Electronics</td>\n",
       "      <td>1000</td>\n",
       "      <td>6.908755</td>\n",
       "    </tr>\n",
       "    <tr>\n",
       "      <th>7</th>\n",
       "      <td>5</td>\n",
       "      <td>104</td>\n",
       "      <td>2023-02-20</td>\n",
       "      <td>400</td>\n",
       "      <td>completed</td>\n",
       "      <td>7</td>\n",
       "      <td>1</td>\n",
       "      <td>Smartphone</td>\n",
       "      <td>Electronics</td>\n",
       "      <td>700</td>\n",
       "      <td>6.552508</td>\n",
       "    </tr>\n",
       "    <tr>\n",
       "      <th>8</th>\n",
       "      <td>5</td>\n",
       "      <td>104</td>\n",
       "      <td>2023-02-20</td>\n",
       "      <td>400</td>\n",
       "      <td>completed</td>\n",
       "      <td>13</td>\n",
       "      <td>2</td>\n",
       "      <td>Smart Speaker</td>\n",
       "      <td>Electronics</td>\n",
       "      <td>200</td>\n",
       "      <td>5.303305</td>\n",
       "    </tr>\n",
       "    <tr>\n",
       "      <th>9</th>\n",
       "      <td>6</td>\n",
       "      <td>105</td>\n",
       "      <td>2023-03-15</td>\n",
       "      <td>350</td>\n",
       "      <td>completed</td>\n",
       "      <td>2</td>\n",
       "      <td>1</td>\n",
       "      <td>Keyboard</td>\n",
       "      <td>Electronics</td>\n",
       "      <td>50</td>\n",
       "      <td>3.931826</td>\n",
       "    </tr>\n",
       "    <tr>\n",
       "      <th>14</th>\n",
       "      <td>9</td>\n",
       "      <td>108</td>\n",
       "      <td>2023-04-05</td>\n",
       "      <td>150</td>\n",
       "      <td>completed</td>\n",
       "      <td>12</td>\n",
       "      <td>1</td>\n",
       "      <td>Game Console</td>\n",
       "      <td>Electronics</td>\n",
       "      <td>500</td>\n",
       "      <td>6.216606</td>\n",
       "    </tr>\n",
       "    <tr>\n",
       "      <th>18</th>\n",
       "      <td>12</td>\n",
       "      <td>111</td>\n",
       "      <td>2023-05-04</td>\n",
       "      <td>250</td>\n",
       "      <td>cancelled</td>\n",
       "      <td>16</td>\n",
       "      <td>1</td>\n",
       "      <td>Laser Printer</td>\n",
       "      <td>Electronics</td>\n",
       "      <td>200</td>\n",
       "      <td>5.303305</td>\n",
       "    </tr>\n",
       "    <tr>\n",
       "      <th>20</th>\n",
       "      <td>14</td>\n",
       "      <td>102</td>\n",
       "      <td>2023-06-10</td>\n",
       "      <td>700</td>\n",
       "      <td>completed</td>\n",
       "      <td>12</td>\n",
       "      <td>1</td>\n",
       "      <td>Game Console</td>\n",
       "      <td>Electronics</td>\n",
       "      <td>500</td>\n",
       "      <td>6.216606</td>\n",
       "    </tr>\n",
       "    <tr>\n",
       "      <th>23</th>\n",
       "      <td>17</td>\n",
       "      <td>105</td>\n",
       "      <td>2023-07-15</td>\n",
       "      <td>600</td>\n",
       "      <td>completed</td>\n",
       "      <td>13</td>\n",
       "      <td>2</td>\n",
       "      <td>Smart Speaker</td>\n",
       "      <td>Electronics</td>\n",
       "      <td>200</td>\n",
       "      <td>5.303305</td>\n",
       "    </tr>\n",
       "    <tr>\n",
       "      <th>24</th>\n",
       "      <td>18</td>\n",
       "      <td>106</td>\n",
       "      <td>2023-08-01</td>\n",
       "      <td>300</td>\n",
       "      <td>completed</td>\n",
       "      <td>1</td>\n",
       "      <td>1</td>\n",
       "      <td>Wireless Mouse</td>\n",
       "      <td>Electronics</td>\n",
       "      <td>25</td>\n",
       "      <td>3.258097</td>\n",
       "    </tr>\n",
       "    <tr>\n",
       "      <th>26</th>\n",
       "      <td>20</td>\n",
       "      <td>108</td>\n",
       "      <td>2023-09-05</td>\n",
       "      <td>500</td>\n",
       "      <td>completed</td>\n",
       "      <td>25</td>\n",
       "      <td>1</td>\n",
       "      <td>Smart TV</td>\n",
       "      <td>Electronics</td>\n",
       "      <td>600</td>\n",
       "      <td>6.398595</td>\n",
       "    </tr>\n",
       "    <tr>\n",
       "      <th>28</th>\n",
       "      <td>22</td>\n",
       "      <td>110</td>\n",
       "      <td>2023-09-15</td>\n",
       "      <td>350</td>\n",
       "      <td>completed</td>\n",
       "      <td>26</td>\n",
       "      <td>1</td>\n",
       "      <td>Projector</td>\n",
       "      <td>Electronics</td>\n",
       "      <td>400</td>\n",
       "      <td>5.993961</td>\n",
       "    </tr>\n",
       "    <tr>\n",
       "      <th>30</th>\n",
       "      <td>24</td>\n",
       "      <td>101</td>\n",
       "      <td>2023-10-05</td>\n",
       "      <td>450</td>\n",
       "      <td>completed</td>\n",
       "      <td>4</td>\n",
       "      <td>1</td>\n",
       "      <td>Headphones</td>\n",
       "      <td>Electronics</td>\n",
       "      <td>100</td>\n",
       "      <td>4.615121</td>\n",
       "    </tr>\n",
       "    <tr>\n",
       "      <th>33</th>\n",
       "      <td>27</td>\n",
       "      <td>104</td>\n",
       "      <td>2023-12-01</td>\n",
       "      <td>700</td>\n",
       "      <td>completed</td>\n",
       "      <td>6</td>\n",
       "      <td>1</td>\n",
       "      <td>Smartwatch</td>\n",
       "      <td>Electronics</td>\n",
       "      <td>150</td>\n",
       "      <td>5.017280</td>\n",
       "    </tr>\n",
       "    <tr>\n",
       "      <th>34</th>\n",
       "      <td>28</td>\n",
       "      <td>105</td>\n",
       "      <td>2023-12-10</td>\n",
       "      <td>120</td>\n",
       "      <td>completed</td>\n",
       "      <td>8</td>\n",
       "      <td>1</td>\n",
       "      <td>Laptop</td>\n",
       "      <td>Electronics</td>\n",
       "      <td>1000</td>\n",
       "      <td>6.908755</td>\n",
       "    </tr>\n",
       "  </tbody>\n",
       "</table>\n",
       "</div>"
      ],
      "text/plain": [
       "    order_id  customer_id  order_date  total_amount     status  product_id  \\\n",
       "0          1          101  2023-01-05           250  completed           1   \n",
       "2          2          102  2023-01-07           150  cancelled           4   \n",
       "3          3          103  2023-01-10           300  completed           6   \n",
       "4          3          103  2023-01-10           300  completed           8   \n",
       "7          5          104  2023-02-20           400  completed           7   \n",
       "8          5          104  2023-02-20           400  completed          13   \n",
       "9          6          105  2023-03-15           350  completed           2   \n",
       "14         9          108  2023-04-05           150  completed          12   \n",
       "18        12          111  2023-05-04           250  cancelled          16   \n",
       "20        14          102  2023-06-10           700  completed          12   \n",
       "23        17          105  2023-07-15           600  completed          13   \n",
       "24        18          106  2023-08-01           300  completed           1   \n",
       "26        20          108  2023-09-05           500  completed          25   \n",
       "28        22          110  2023-09-15           350  completed          26   \n",
       "30        24          101  2023-10-05           450  completed           4   \n",
       "33        27          104  2023-12-01           700  completed           6   \n",
       "34        28          105  2023-12-10           120  completed           8   \n",
       "\n",
       "    quantity    product_name     category  price  price_logged  \n",
       "0          2  Wireless Mouse  Electronics     25      3.258097  \n",
       "2          1      Headphones  Electronics    100      4.615121  \n",
       "3          1      Smartwatch  Electronics    150      5.017280  \n",
       "4          1          Laptop  Electronics   1000      6.908755  \n",
       "7          1      Smartphone  Electronics    700      6.552508  \n",
       "8          2   Smart Speaker  Electronics    200      5.303305  \n",
       "9          1        Keyboard  Electronics     50      3.931826  \n",
       "14         1    Game Console  Electronics    500      6.216606  \n",
       "18         1   Laser Printer  Electronics    200      5.303305  \n",
       "20         1    Game Console  Electronics    500      6.216606  \n",
       "23         2   Smart Speaker  Electronics    200      5.303305  \n",
       "24         1  Wireless Mouse  Electronics     25      3.258097  \n",
       "26         1        Smart TV  Electronics    600      6.398595  \n",
       "28         1       Projector  Electronics    400      5.993961  \n",
       "30         1      Headphones  Electronics    100      4.615121  \n",
       "33         1      Smartwatch  Electronics    150      5.017280  \n",
       "34         1          Laptop  Electronics   1000      6.908755  "
      ]
     },
     "execution_count": 52,
     "metadata": {},
     "output_type": "execute_result"
    }
   ],
   "source": [
    "df_electronics = df_final_merge[df_final_merge['category'] == 'Electronics']\n",
    "df_electronics"
   ]
  },
  {
   "cell_type": "code",
   "execution_count": null,
   "id": "ba209c82-658b-4567-b327-ea944836bfc9",
   "metadata": {},
   "outputs": [],
   "source": [
    "# aggrigating product total sales, and merging with order frequency"
   ]
  },
  {
   "cell_type": "code",
   "execution_count": 47,
   "id": "8eb9cf41-20f2-4c68-8d1a-716c3581ca37",
   "metadata": {},
   "outputs": [
    {
     "data": {
      "text/html": [
       "<div>\n",
       "<style scoped>\n",
       "    .dataframe tbody tr th:only-of-type {\n",
       "        vertical-align: middle;\n",
       "    }\n",
       "\n",
       "    .dataframe tbody tr th {\n",
       "        vertical-align: top;\n",
       "    }\n",
       "\n",
       "    .dataframe thead th {\n",
       "        text-align: right;\n",
       "    }\n",
       "</style>\n",
       "<table border=\"1\" class=\"dataframe\">\n",
       "  <thead>\n",
       "    <tr style=\"text-align: right;\">\n",
       "      <th></th>\n",
       "      <th>category</th>\n",
       "      <th>Total Sell</th>\n",
       "      <th>Purchase Frequency</th>\n",
       "    </tr>\n",
       "  </thead>\n",
       "  <tbody>\n",
       "    <tr>\n",
       "      <th>0</th>\n",
       "      <td>Accessories</td>\n",
       "      <td>700</td>\n",
       "      <td>2</td>\n",
       "    </tr>\n",
       "    <tr>\n",
       "      <th>1</th>\n",
       "      <td>Appliances</td>\n",
       "      <td>4150</td>\n",
       "      <td>9</td>\n",
       "    </tr>\n",
       "    <tr>\n",
       "      <th>2</th>\n",
       "      <td>Clothing</td>\n",
       "      <td>350</td>\n",
       "      <td>2</td>\n",
       "    </tr>\n",
       "    <tr>\n",
       "      <th>3</th>\n",
       "      <td>Electronics</td>\n",
       "      <td>6270</td>\n",
       "      <td>17</td>\n",
       "    </tr>\n",
       "    <tr>\n",
       "      <th>4</th>\n",
       "      <td>Furniture</td>\n",
       "      <td>2520</td>\n",
       "      <td>7</td>\n",
       "    </tr>\n",
       "  </tbody>\n",
       "</table>\n",
       "</div>"
      ],
      "text/plain": [
       "      category  Total Sell  Purchase Frequency\n",
       "0  Accessories         700                   2\n",
       "1   Appliances        4150                   9\n",
       "2     Clothing         350                   2\n",
       "3  Electronics        6270                  17\n",
       "4    Furniture        2520                   7"
      ]
     },
     "execution_count": 47,
     "metadata": {},
     "output_type": "execute_result"
    }
   ],
   "source": [
    "df_cat_agg = df_final_merge.groupby('category').agg({\n",
    "    'total_amount': 'sum',    # Total spend\n",
    "    'order_id': 'count',      # Purchase frequency\n",
    "}).rename(columns={'total_amount': 'Total Sell', 'order_id': 'Purchase Frequency'}).reset_index()\n",
    "df_cat_agg"
   ]
  },
  {
   "cell_type": "code",
   "execution_count": null,
   "id": "28fce6b2-0002-4614-aa4e-c977f5794aa1",
   "metadata": {},
   "outputs": [],
   "source": [
    "# checking if rating realy affects the product sale"
   ]
  },
  {
   "cell_type": "code",
   "execution_count": 53,
   "id": "ab6fa23b-bddc-4f82-961a-65e35c5eb7fa",
   "metadata": {},
   "outputs": [
    {
     "data": {
      "image/png": "[encoded data removed]",
      "text/plain": [
       "<Figure size 640x480 with 1 Axes>"
      ]
     },
     "metadata": {},
     "output_type": "display_data"
    }
   ],
   "source": [
    "sns.barplot(x=df_cat_agg['Total Sell'], y=df_cat_agg['category'])\n",
    "#plt.xticks(rotation=90)\n",
    "plt.title(\"Top 5 most Valued Customers\")\n",
    "plt.savefig(r\"C:\\Users\\Vinayak\\Data Analyst - Raw Data (1)\\graphs_and_visuals\\category_sale.png\", dpi=300, bbox_inches=\"tight\")\n",
    "plt.show()\n"
   ]
  },
  {
   "cell_type": "code",
   "execution_count": 62,
   "id": "7dad7500-71bd-4ad1-8507-f3ce63e0fecc",
   "metadata": {},
   "outputs": [
    {
     "data": {
      "text/html": [
       "<div>\n",
       "<style scoped>\n",
       "    .dataframe tbody tr th:only-of-type {\n",
       "        vertical-align: middle;\n",
       "    }\n",
       "\n",
       "    .dataframe tbody tr th {\n",
       "        vertical-align: top;\n",
       "    }\n",
       "\n",
       "    .dataframe thead th {\n",
       "        text-align: right;\n",
       "    }\n",
       "</style>\n",
       "<table border=\"1\" class=\"dataframe\">\n",
       "  <thead>\n",
       "    <tr style=\"text-align: right;\">\n",
       "      <th></th>\n",
       "      <th>review_id</th>\n",
       "      <th>order_id</th>\n",
       "      <th>product_id</th>\n",
       "      <th>rating</th>\n",
       "      <th>review_text</th>\n",
       "      <th>review_date</th>\n",
       "      <th>product_name</th>\n",
       "      <th>category</th>\n",
       "      <th>price</th>\n",
       "      <th>price_logged</th>\n",
       "    </tr>\n",
       "  </thead>\n",
       "  <tbody>\n",
       "    <tr>\n",
       "      <th>0</th>\n",
       "      <td>1</td>\n",
       "      <td>1</td>\n",
       "      <td>1</td>\n",
       "      <td>4</td>\n",
       "      <td>Good product</td>\n",
       "      <td>2023-01-07</td>\n",
       "      <td>Wireless Mouse</td>\n",
       "      <td>Electronics</td>\n",
       "      <td>25</td>\n",
       "      <td>3.258097</td>\n",
       "    </tr>\n",
       "    <tr>\n",
       "      <th>1</th>\n",
       "      <td>2</td>\n",
       "      <td>1</td>\n",
       "      <td>3</td>\n",
       "      <td>5</td>\n",
       "      <td>Excellent quality!</td>\n",
       "      <td>2023-01-07</td>\n",
       "      <td>Phone Case</td>\n",
       "      <td>Accessories</td>\n",
       "      <td>15</td>\n",
       "      <td>2.772589</td>\n",
       "    </tr>\n",
       "    <tr>\n",
       "      <th>3</th>\n",
       "      <td>4</td>\n",
       "      <td>3</td>\n",
       "      <td>6</td>\n",
       "      <td>4</td>\n",
       "      <td>Good value for money</td>\n",
       "      <td>2023-01-12</td>\n",
       "      <td>Smartwatch</td>\n",
       "      <td>Electronics</td>\n",
       "      <td>150</td>\n",
       "      <td>5.017280</td>\n",
       "    </tr>\n",
       "    <tr>\n",
       "      <th>5</th>\n",
       "      <td>6</td>\n",
       "      <td>4</td>\n",
       "      <td>9</td>\n",
       "      <td>4</td>\n",
       "      <td>Very comfortable</td>\n",
       "      <td>2023-02-13</td>\n",
       "      <td>Table</td>\n",
       "      <td>Furniture</td>\n",
       "      <td>150</td>\n",
       "      <td>5.017280</td>\n",
       "    </tr>\n",
       "    <tr>\n",
       "      <th>6</th>\n",
       "      <td>7</td>\n",
       "      <td>5</td>\n",
       "      <td>7</td>\n",
       "      <td>5</td>\n",
       "      <td>Loved it</td>\n",
       "      <td>2023-02-21</td>\n",
       "      <td>Smartphone</td>\n",
       "      <td>Electronics</td>\n",
       "      <td>700</td>\n",
       "      <td>6.552508</td>\n",
       "    </tr>\n",
       "  </tbody>\n",
       "</table>\n",
       "</div>"
      ],
      "text/plain": [
       "   review_id  order_id  product_id  rating           review_text review_date  \\\n",
       "0          1         1           1       4          Good product  2023-01-07   \n",
       "1          2         1           3       5    Excellent quality!  2023-01-07   \n",
       "3          4         3           6       4  Good value for money  2023-01-12   \n",
       "5          6         4           9       4      Very comfortable  2023-02-13   \n",
       "6          7         5           7       5              Loved it  2023-02-21   \n",
       "\n",
       "     product_name     category  price  price_logged  \n",
       "0  Wireless Mouse  Electronics     25      3.258097  \n",
       "1      Phone Case  Accessories     15      2.772589  \n",
       "3      Smartwatch  Electronics    150      5.017280  \n",
       "5           Table    Furniture    150      5.017280  \n",
       "6      Smartphone  Electronics    700      6.552508  "
      ]
     },
     "execution_count": 62,
     "metadata": {},
     "output_type": "execute_result"
    }
   ],
   "source": [
    "df_high_rated = df_rating[df_rating['rating'] > 3.5]\n",
    "df_high_rated.head()"
   ]
  },
  {
   "cell_type": "code",
   "execution_count": 64,
   "id": "432a4db3-cb1c-4f17-b88d-c44572aebb3c",
   "metadata": {
    "scrolled": true
   },
   "outputs": [
    {
     "data": {
      "text/plain": [
       "category\n",
       "Electronics    16\n",
       "Furniture       5\n",
       "Appliances      5\n",
       "Accessories     2\n",
       "Clothing        2\n",
       "Name: count, dtype: int64"
      ]
     },
     "execution_count": 64,
     "metadata": {},
     "output_type": "execute_result"
    }
   ],
   "source": [
    "df_rating['category'].value_counts()"
   ]
  },
  {
   "cell_type": "markdown",
   "id": "691c7cd9-7568-46ba-8e3f-d0cf7923a0fe",
   "metadata": {},
   "source": [
    "# Correlate Ratings with Sales & Price"
   ]
  },
  {
   "cell_type": "code",
   "execution_count": 59,
   "id": "e619b7aa-37c0-4fc3-8e6a-ded093dcb776",
   "metadata": {
    "scrolled": true
   },
   "outputs": [
    {
     "data": {
      "text/html": [
       "<div>\n",
       "<style scoped>\n",
       "    .dataframe tbody tr th:only-of-type {\n",
       "        vertical-align: middle;\n",
       "    }\n",
       "\n",
       "    .dataframe tbody tr th {\n",
       "        vertical-align: top;\n",
       "    }\n",
       "\n",
       "    .dataframe thead th {\n",
       "        text-align: right;\n",
       "    }\n",
       "</style>\n",
       "<table border=\"1\" class=\"dataframe\">\n",
       "  <thead>\n",
       "    <tr style=\"text-align: right;\">\n",
       "      <th></th>\n",
       "      <th>review_id</th>\n",
       "      <th>order_id</th>\n",
       "      <th>product_id</th>\n",
       "      <th>rating</th>\n",
       "      <th>review_text</th>\n",
       "      <th>review_date</th>\n",
       "      <th>product_name</th>\n",
       "      <th>category</th>\n",
       "      <th>price</th>\n",
       "      <th>price_logged</th>\n",
       "      <th>customer_id</th>\n",
       "      <th>order_date</th>\n",
       "      <th>total_amount</th>\n",
       "      <th>status</th>\n",
       "    </tr>\n",
       "  </thead>\n",
       "  <tbody>\n",
       "    <tr>\n",
       "      <th>0</th>\n",
       "      <td>1</td>\n",
       "      <td>1</td>\n",
       "      <td>1</td>\n",
       "      <td>4</td>\n",
       "      <td>Good product</td>\n",
       "      <td>2023-01-07</td>\n",
       "      <td>Wireless Mouse</td>\n",
       "      <td>Electronics</td>\n",
       "      <td>25</td>\n",
       "      <td>3.258097</td>\n",
       "      <td>101</td>\n",
       "      <td>2023-01-05</td>\n",
       "      <td>250</td>\n",
       "      <td>completed</td>\n",
       "    </tr>\n",
       "    <tr>\n",
       "      <th>1</th>\n",
       "      <td>2</td>\n",
       "      <td>1</td>\n",
       "      <td>3</td>\n",
       "      <td>5</td>\n",
       "      <td>Excellent quality!</td>\n",
       "      <td>2023-01-07</td>\n",
       "      <td>Phone Case</td>\n",
       "      <td>Accessories</td>\n",
       "      <td>15</td>\n",
       "      <td>2.772589</td>\n",
       "      <td>101</td>\n",
       "      <td>2023-01-05</td>\n",
       "      <td>250</td>\n",
       "      <td>completed</td>\n",
       "    </tr>\n",
       "    <tr>\n",
       "      <th>2</th>\n",
       "      <td>3</td>\n",
       "      <td>2</td>\n",
       "      <td>4</td>\n",
       "      <td>3</td>\n",
       "      <td>Average quality</td>\n",
       "      <td>2023-01-09</td>\n",
       "      <td>Headphones</td>\n",
       "      <td>Electronics</td>\n",
       "      <td>100</td>\n",
       "      <td>4.615121</td>\n",
       "      <td>102</td>\n",
       "      <td>2023-01-07</td>\n",
       "      <td>150</td>\n",
       "      <td>cancelled</td>\n",
       "    </tr>\n",
       "    <tr>\n",
       "      <th>3</th>\n",
       "      <td>4</td>\n",
       "      <td>3</td>\n",
       "      <td>6</td>\n",
       "      <td>4</td>\n",
       "      <td>Good value for money</td>\n",
       "      <td>2023-01-12</td>\n",
       "      <td>Smartwatch</td>\n",
       "      <td>Electronics</td>\n",
       "      <td>150</td>\n",
       "      <td>5.017280</td>\n",
       "      <td>103</td>\n",
       "      <td>2023-01-10</td>\n",
       "      <td>300</td>\n",
       "      <td>completed</td>\n",
       "    </tr>\n",
       "    <tr>\n",
       "      <th>4</th>\n",
       "      <td>5</td>\n",
       "      <td>3</td>\n",
       "      <td>8</td>\n",
       "      <td>2</td>\n",
       "      <td>Not as expected</td>\n",
       "      <td>2023-01-12</td>\n",
       "      <td>Laptop</td>\n",
       "      <td>Electronics</td>\n",
       "      <td>1000</td>\n",
       "      <td>6.908755</td>\n",
       "      <td>103</td>\n",
       "      <td>2023-01-10</td>\n",
       "      <td>300</td>\n",
       "      <td>completed</td>\n",
       "    </tr>\n",
       "  </tbody>\n",
       "</table>\n",
       "</div>"
      ],
      "text/plain": [
       "   review_id  order_id  product_id  rating           review_text review_date  \\\n",
       "0          1         1           1       4          Good product  2023-01-07   \n",
       "1          2         1           3       5    Excellent quality!  2023-01-07   \n",
       "2          3         2           4       3       Average quality  2023-01-09   \n",
       "3          4         3           6       4  Good value for money  2023-01-12   \n",
       "4          5         3           8       2       Not as expected  2023-01-12   \n",
       "\n",
       "     product_name     category  price  price_logged  customer_id  order_date  \\\n",
       "0  Wireless Mouse  Electronics     25      3.258097          101  2023-01-05   \n",
       "1      Phone Case  Accessories     15      2.772589          101  2023-01-05   \n",
       "2      Headphones  Electronics    100      4.615121          102  2023-01-07   \n",
       "3      Smartwatch  Electronics    150      5.017280          103  2023-01-10   \n",
       "4          Laptop  Electronics   1000      6.908755          103  2023-01-10   \n",
       "\n",
       "   total_amount     status  \n",
       "0           250  completed  \n",
       "1           250  completed  \n",
       "2           150  cancelled  \n",
       "3           300  completed  \n",
       "4           300  completed  "
      ]
     },
     "execution_count": 59,
     "metadata": {},
     "output_type": "execute_result"
    }
   ],
   "source": [
    "df_merge_sales = df_rating.merge(df_orders, on = 'order_id', how='inner')\n",
    "df_merge_sales.head()"
   ]
  },
  {
   "cell_type": "code",
   "execution_count": 61,
   "id": "2da74354-b6f5-462a-ac02-f2e8a0c253b4",
   "metadata": {
    "scrolled": true
   },
   "outputs": [
    {
     "name": "stdout",
     "output_type": "stream",
     "text": [
      "                rating  total_amount\n",
      "rating        1.000000      0.242451\n",
      "total_amount  0.242451      1.000000\n"
     ]
    },
    {
     "data": {
      "image/png": "[encoded data removed]",
      "text/plain": [
       "<Figure size 500x500 with 2 Axes>"
      ]
     },
     "metadata": {},
     "output_type": "display_data"
    }
   ],
   "source": [
    "correlation = df_merge_sales[['rating', 'total_amount']].corr()\n",
    "print(correlation)\n",
    "plt.figure(figsize=(5, 5))\n",
    "sns.heatmap(correlation, annot=True, cmap='coolwarm', fmt='.2f')\n",
    "plt.title(\"Correlate Ratings with Sales & Price\")\n",
    "plt.savefig(r\"C:\\Users\\Vinayak\\Data Analyst - Raw Data (1)\\graphs_and_visuals\\rating_sale_corr.png\", dpi=300, bbox_inches=\"tight\")\n",
    "plt.show()"
   ]
  },
  {
   "cell_type": "code",
   "execution_count": null,
   "id": "55207e99-b572-484b-b70c-9a10d6ffd601",
   "metadata": {},
   "outputs": [],
   "source": [
    "# Correlation is -0.12 → Very weak negative correlation.\n",
    "# Price barely affects quantity sold"
   ]
  },
  {
   "cell_type": "code",
   "execution_count": null,
   "id": "0a84be6b-0c57-4eb9-af7d-ddb37a18a2b5",
   "metadata": {},
   "outputs": [],
   "source": [
    "# to anlyse more checking rating distribution agains sales"
   ]
  },
  {
   "cell_type": "code",
   "execution_count": 63,
   "id": "6295221d-e68a-4fd1-a9c5-ebd83dc09553",
   "metadata": {
    "scrolled": true
   },
   "outputs": [
    {
     "data": {
      "image/png": "[encoded data removed]",
      "text/plain": [
       "<Figure size 800x500 with 1 Axes>"
      ]
     },
     "metadata": {},
     "output_type": "display_data"
    }
   ],
   "source": [
    "plt.figure(figsize=(8,5))\n",
    "sns.scatterplot(x=\"total_amount\", y=\"rating\", data=df_merge_sales)\n",
    "plt.xlabel(\"Sales\")\n",
    "plt.ylabel(\"Product Rating\")\n",
    "plt.title(\"Product Ratings vs Sales\")\n",
    "plt.savefig(r\"C:\\Users\\Vinayak\\Data Analyst - Raw Data (1)\\graphs_and_visuals\\rating_dist.png\", dpi=300, bbox_inches=\"tight\")\n",
    "plt.show()\n"
   ]
  },
  {
   "cell_type": "code",
   "execution_count": null,
   "id": "98e1d552-71da-481f-b4e3-bda39f329f3a",
   "metadata": {},
   "outputs": [],
   "source": [
    "# the scatter plot suggests that product rating has some influence on sales, but it's not the only factor.  \n",
    "# Higher ratings tend to be associated with higher sales, but there's significant variability.  "
   ]
  },
  {
   "cell_type": "code",
   "execution_count": null,
   "id": "45a529bf-b9cf-4154-abbd-fe96efe3e993",
   "metadata": {},
   "outputs": [],
   "source": [
    "Rating = 2: There's only one data point at a rating of 2, with relatively low sales. This could be an outlier or represent a specific product.\n",
    "Rating = 3: There's a wide range of sales at a rating of 3, from low to relatively high.\n",
    "Rating = 4: Similar to rating 3, there's a spread of sales values.\n",
    "Rating = 5: Again, there's a wide range of sales. Some of the highest sales values are observed at this rating, but there are also data points with lower sales."
   ]
  }
 ],
 "metadata": {
  "kernelspec": {
   "display_name": "Python 3 (ipykernel)",
   "language": "python",
   "name": "python3"
  },
  "language_info": {
   "codemirror_mode": {
    "name": "ipython",
    "version": 3
   },
   "file_extension": ".py",
   "mimetype": "text/x-python",
   "name": "python",
   "nbconvert_exporter": "python",
   "pygments_lexer": "ipython3",
   "version": "3.12.7"
  }
 },
 "nbformat": 4,
 "nbformat_minor": 5
}
